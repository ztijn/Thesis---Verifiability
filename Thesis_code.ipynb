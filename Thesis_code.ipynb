{
  "cells": [
    {
      "cell_type": "code",
      "execution_count": 1,
      "metadata": {
        "id": "jQCcxUK5upSC"
      },
      "outputs": [],
      "source": [
        "# Import necessary libraries\n",
        "import pandas as pd\n",
        "import numpy as np\n",
        "import spacy\n",
        "from sklearn.feature_extraction.text import CountVectorizer, TfidfTransformer, TfidfVectorizer\n",
        "from sklearn.model_selection import train_test_split\n",
        "from sklearn import svm\n",
        "from sklearn.metrics import confusion_matrix, ConfusionMatrixDisplay, accuracy_score\n",
        "from sklearn.base import BaseEstimator, TransformerMixin\n",
        "from sklearn.pipeline import Pipeline, FeatureUnion\n",
        "from sklearn.preprocessing import StandardScaler\n",
        "from sklearn.dummy import DummyClassifier\n",
        "from sklearn.model_selection import GridSearchCV\n",
        "from matplotlib import pyplot as plt\n",
        "import seaborn as sns"
      ]
    },
    {
      "cell_type": "code",
      "execution_count": 2,
      "metadata": {
        "colab": {
          "base_uri": "https://localhost:8080/"
        },
        "id": "az5YbyWZiA2U",
        "outputId": "13e54cb5-84f7-4ed1-9943-92f934b89b4f"
      },
      "outputs": [
        {
          "output_type": "stream",
          "name": "stdout",
          "text": [
            "Looking in indexes: https://pypi.org/simple, https://us-python.pkg.dev/colab-wheels/public/simple/\n",
            "Collecting pointofview\n",
            "  Downloading pointofview-1.0.1-py2.py3-none-any.whl (15 kB)\n",
            "Installing collected packages: pointofview\n",
            "Successfully installed pointofview-1.0.1\n"
          ]
        }
      ],
      "source": [
        "# pointofview library is needed to determine if a sentence is in first/second/third person\n",
        "!pip install pointofview"
      ]
    },
    {
      "cell_type": "code",
      "execution_count": 3,
      "metadata": {
        "id": "3jtNVzcWiE5t"
      },
      "outputs": [],
      "source": [
        "import pointofview"
      ]
    },
    {
      "cell_type": "code",
      "execution_count": 4,
      "metadata": {
        "id": "ixjV9B4OiJ7b"
      },
      "outputs": [],
      "source": [
        "# We need a custom function to get the POV in order to remove NoneType, because that would give an error later on\n",
        "def custom_pov(sentence):\n",
        "  if pointofview.get_text_pov(sentence) == None:\n",
        "    return 'none'\n",
        "  else:\n",
        "    return pointofview.get_text_pov(sentence)"
      ]
    },
    {
      "cell_type": "code",
      "execution_count": 5,
      "metadata": {
        "colab": {
          "base_uri": "https://localhost:8080/"
        },
        "id": "YSQmPbTRVX1z",
        "outputId": "117eee02-cbd9-427d-cbca-c7e36dd0e7b8"
      },
      "outputs": [
        {
          "output_type": "stream",
          "name": "stdout",
          "text": [
            "Mounted at /content/drive\n"
          ]
        }
      ],
      "source": [
        "# Connect to google drive to get the csv files\n",
        "from google.colab import drive\n",
        "drive.mount('/content/drive')"
      ]
    },
    {
      "cell_type": "code",
      "execution_count": 6,
      "metadata": {
        "colab": {
          "base_uri": "https://localhost:8080/",
          "height": 355
        },
        "id": "L5kRThn22Z-8",
        "outputId": "c4bca729-0315-4c04-b1d9-4348309c8174"
      },
      "outputs": [
        {
          "output_type": "stream",
          "name": "stdout",
          "text": [
            "/content/drive/MyDrive\n"
          ]
        },
        {
          "output_type": "execute_result",
          "data": {
            "text/plain": [
              "   thread_id comment_id                                           sentence  \\\n",
              "0  t3_4xsg8k    d6iux4x  I have spent 6 years at 2 different universiti...   \n",
              "1  t3_4xsg8k    d6iux4x  They seem like small private groups that peopl...   \n",
              "2  t3_4xsg8k    d6iux4x  Do you have evidence of safe spaces growing an...   \n",
              "3  t3_4xsg8k    d6ishdg         A safe space isn't inherently a bad thing.   \n",
              "4  t3_4xsg8k    d6ishdg                           Think of it like a club.   \n",
              "\n",
              "                                             comment    id    verif personal  \\\n",
              "0  I have spent 6 years at 2 different universiti...  4653  UnVerif      NaN   \n",
              "1  I have spent 6 years at 2 different universiti...  4654  UnVerif      NaN   \n",
              "2  I have spent 6 years at 2 different universiti...  4655   NonArg      NaN   \n",
              "3  A safe space isn't inherently a bad thing. Thi...  4656  UnVerif      NaN   \n",
              "4  A safe space isn't inherently a bad thing. Thi...  4657  UnVerif      NaN   \n",
              "\n",
              "  difficulty  annotator  annotation_id                   created_at  \\\n",
              "0        NaN          1           4653  2022-05-02T15:37:41.172039Z   \n",
              "1        NaN          1           4654  2022-05-02T15:45:49.059809Z   \n",
              "2        NaN          1           4655  2022-05-02T15:45:50.909690Z   \n",
              "3        NaN          1           4656  2022-05-02T15:45:55.792114Z   \n",
              "4        NaN          1           4657  2022-05-02T15:45:58.288064Z   \n",
              "\n",
              "                    updated_at  lead_time  \n",
              "0  2022-05-02T15:37:41.172075Z     10.614  \n",
              "1  2022-05-02T15:45:49.059873Z    487.322  \n",
              "2  2022-05-02T15:45:50.909729Z      1.598  \n",
              "3  2022-05-02T15:45:55.792152Z      4.646  \n",
              "4  2022-05-02T15:45:58.288102Z      2.160  "
            ],
            "text/html": [
              "\n",
              "  <div id=\"df-6561909b-e65e-438e-b38c-7384b06cff54\">\n",
              "    <div class=\"colab-df-container\">\n",
              "      <div>\n",
              "<style scoped>\n",
              "    .dataframe tbody tr th:only-of-type {\n",
              "        vertical-align: middle;\n",
              "    }\n",
              "\n",
              "    .dataframe tbody tr th {\n",
              "        vertical-align: top;\n",
              "    }\n",
              "\n",
              "    .dataframe thead th {\n",
              "        text-align: right;\n",
              "    }\n",
              "</style>\n",
              "<table border=\"1\" class=\"dataframe\">\n",
              "  <thead>\n",
              "    <tr style=\"text-align: right;\">\n",
              "      <th></th>\n",
              "      <th>thread_id</th>\n",
              "      <th>comment_id</th>\n",
              "      <th>sentence</th>\n",
              "      <th>comment</th>\n",
              "      <th>id</th>\n",
              "      <th>verif</th>\n",
              "      <th>personal</th>\n",
              "      <th>difficulty</th>\n",
              "      <th>annotator</th>\n",
              "      <th>annotation_id</th>\n",
              "      <th>created_at</th>\n",
              "      <th>updated_at</th>\n",
              "      <th>lead_time</th>\n",
              "    </tr>\n",
              "  </thead>\n",
              "  <tbody>\n",
              "    <tr>\n",
              "      <th>0</th>\n",
              "      <td>t3_4xsg8k</td>\n",
              "      <td>d6iux4x</td>\n",
              "      <td>I have spent 6 years at 2 different universiti...</td>\n",
              "      <td>I have spent 6 years at 2 different universiti...</td>\n",
              "      <td>4653</td>\n",
              "      <td>UnVerif</td>\n",
              "      <td>NaN</td>\n",
              "      <td>NaN</td>\n",
              "      <td>1</td>\n",
              "      <td>4653</td>\n",
              "      <td>2022-05-02T15:37:41.172039Z</td>\n",
              "      <td>2022-05-02T15:37:41.172075Z</td>\n",
              "      <td>10.614</td>\n",
              "    </tr>\n",
              "    <tr>\n",
              "      <th>1</th>\n",
              "      <td>t3_4xsg8k</td>\n",
              "      <td>d6iux4x</td>\n",
              "      <td>They seem like small private groups that peopl...</td>\n",
              "      <td>I have spent 6 years at 2 different universiti...</td>\n",
              "      <td>4654</td>\n",
              "      <td>UnVerif</td>\n",
              "      <td>NaN</td>\n",
              "      <td>NaN</td>\n",
              "      <td>1</td>\n",
              "      <td>4654</td>\n",
              "      <td>2022-05-02T15:45:49.059809Z</td>\n",
              "      <td>2022-05-02T15:45:49.059873Z</td>\n",
              "      <td>487.322</td>\n",
              "    </tr>\n",
              "    <tr>\n",
              "      <th>2</th>\n",
              "      <td>t3_4xsg8k</td>\n",
              "      <td>d6iux4x</td>\n",
              "      <td>Do you have evidence of safe spaces growing an...</td>\n",
              "      <td>I have spent 6 years at 2 different universiti...</td>\n",
              "      <td>4655</td>\n",
              "      <td>NonArg</td>\n",
              "      <td>NaN</td>\n",
              "      <td>NaN</td>\n",
              "      <td>1</td>\n",
              "      <td>4655</td>\n",
              "      <td>2022-05-02T15:45:50.909690Z</td>\n",
              "      <td>2022-05-02T15:45:50.909729Z</td>\n",
              "      <td>1.598</td>\n",
              "    </tr>\n",
              "    <tr>\n",
              "      <th>3</th>\n",
              "      <td>t3_4xsg8k</td>\n",
              "      <td>d6ishdg</td>\n",
              "      <td>A safe space isn't inherently a bad thing.</td>\n",
              "      <td>A safe space isn't inherently a bad thing. Thi...</td>\n",
              "      <td>4656</td>\n",
              "      <td>UnVerif</td>\n",
              "      <td>NaN</td>\n",
              "      <td>NaN</td>\n",
              "      <td>1</td>\n",
              "      <td>4656</td>\n",
              "      <td>2022-05-02T15:45:55.792114Z</td>\n",
              "      <td>2022-05-02T15:45:55.792152Z</td>\n",
              "      <td>4.646</td>\n",
              "    </tr>\n",
              "    <tr>\n",
              "      <th>4</th>\n",
              "      <td>t3_4xsg8k</td>\n",
              "      <td>d6ishdg</td>\n",
              "      <td>Think of it like a club.</td>\n",
              "      <td>A safe space isn't inherently a bad thing. Thi...</td>\n",
              "      <td>4657</td>\n",
              "      <td>UnVerif</td>\n",
              "      <td>NaN</td>\n",
              "      <td>NaN</td>\n",
              "      <td>1</td>\n",
              "      <td>4657</td>\n",
              "      <td>2022-05-02T15:45:58.288064Z</td>\n",
              "      <td>2022-05-02T15:45:58.288102Z</td>\n",
              "      <td>2.160</td>\n",
              "    </tr>\n",
              "  </tbody>\n",
              "</table>\n",
              "</div>\n",
              "      <button class=\"colab-df-convert\" onclick=\"convertToInteractive('df-6561909b-e65e-438e-b38c-7384b06cff54')\"\n",
              "              title=\"Convert this dataframe to an interactive table.\"\n",
              "              style=\"display:none;\">\n",
              "        \n",
              "  <svg xmlns=\"http://www.w3.org/2000/svg\" height=\"24px\"viewBox=\"0 0 24 24\"\n",
              "       width=\"24px\">\n",
              "    <path d=\"M0 0h24v24H0V0z\" fill=\"none\"/>\n",
              "    <path d=\"M18.56 5.44l.94 2.06.94-2.06 2.06-.94-2.06-.94-.94-2.06-.94 2.06-2.06.94zm-11 1L8.5 8.5l.94-2.06 2.06-.94-2.06-.94L8.5 2.5l-.94 2.06-2.06.94zm10 10l.94 2.06.94-2.06 2.06-.94-2.06-.94-.94-2.06-.94 2.06-2.06.94z\"/><path d=\"M17.41 7.96l-1.37-1.37c-.4-.4-.92-.59-1.43-.59-.52 0-1.04.2-1.43.59L10.3 9.45l-7.72 7.72c-.78.78-.78 2.05 0 2.83L4 21.41c.39.39.9.59 1.41.59.51 0 1.02-.2 1.41-.59l7.78-7.78 2.81-2.81c.8-.78.8-2.07 0-2.86zM5.41 20L4 18.59l7.72-7.72 1.47 1.35L5.41 20z\"/>\n",
              "  </svg>\n",
              "      </button>\n",
              "      \n",
              "  <style>\n",
              "    .colab-df-container {\n",
              "      display:flex;\n",
              "      flex-wrap:wrap;\n",
              "      gap: 12px;\n",
              "    }\n",
              "\n",
              "    .colab-df-convert {\n",
              "      background-color: #E8F0FE;\n",
              "      border: none;\n",
              "      border-radius: 50%;\n",
              "      cursor: pointer;\n",
              "      display: none;\n",
              "      fill: #1967D2;\n",
              "      height: 32px;\n",
              "      padding: 0 0 0 0;\n",
              "      width: 32px;\n",
              "    }\n",
              "\n",
              "    .colab-df-convert:hover {\n",
              "      background-color: #E2EBFA;\n",
              "      box-shadow: 0px 1px 2px rgba(60, 64, 67, 0.3), 0px 1px 3px 1px rgba(60, 64, 67, 0.15);\n",
              "      fill: #174EA6;\n",
              "    }\n",
              "\n",
              "    [theme=dark] .colab-df-convert {\n",
              "      background-color: #3B4455;\n",
              "      fill: #D2E3FC;\n",
              "    }\n",
              "\n",
              "    [theme=dark] .colab-df-convert:hover {\n",
              "      background-color: #434B5C;\n",
              "      box-shadow: 0px 1px 3px 1px rgba(0, 0, 0, 0.15);\n",
              "      filter: drop-shadow(0px 1px 2px rgba(0, 0, 0, 0.3));\n",
              "      fill: #FFFFFF;\n",
              "    }\n",
              "  </style>\n",
              "\n",
              "      <script>\n",
              "        const buttonEl =\n",
              "          document.querySelector('#df-6561909b-e65e-438e-b38c-7384b06cff54 button.colab-df-convert');\n",
              "        buttonEl.style.display =\n",
              "          google.colab.kernel.accessAllowed ? 'block' : 'none';\n",
              "\n",
              "        async function convertToInteractive(key) {\n",
              "          const element = document.querySelector('#df-6561909b-e65e-438e-b38c-7384b06cff54');\n",
              "          const dataTable =\n",
              "            await google.colab.kernel.invokeFunction('convertToInteractive',\n",
              "                                                     [key], {});\n",
              "          if (!dataTable) return;\n",
              "\n",
              "          const docLinkHtml = 'Like what you see? Visit the ' +\n",
              "            '<a target=\"_blank\" href=https://colab.research.google.com/notebooks/data_table.ipynb>data table notebook</a>'\n",
              "            + ' to learn more about interactive tables.';\n",
              "          element.innerHTML = '';\n",
              "          dataTable['output_type'] = 'display_data';\n",
              "          await google.colab.output.renderOutput(dataTable, element);\n",
              "          const docLink = document.createElement('div');\n",
              "          docLink.innerHTML = docLinkHtml;\n",
              "          element.appendChild(docLink);\n",
              "        }\n",
              "      </script>\n",
              "    </div>\n",
              "  </div>\n",
              "  "
            ]
          },
          "metadata": {},
          "execution_count": 6
        }
      ],
      "source": [
        "# Load the data and check the first few entries\n",
        "%cd /content/drive/MyDrive/\n",
        "train_df = pd.read_csv('train_set.csv')\n",
        "\n",
        "test_df = pd.read_csv('test_set.csv')\n",
        "test_df.head()"
      ]
    },
    {
      "cell_type": "code",
      "execution_count": 7,
      "metadata": {
        "colab": {
          "base_uri": "https://localhost:8080/",
          "height": 206
        },
        "id": "fCsNoYnW22BK",
        "outputId": "b8545243-4229-44b6-d514-9262756abac2"
      },
      "outputs": [
        {
          "output_type": "execute_result",
          "data": {
            "text/plain": [
              "                                            sentence    verif personal  \\\n",
              "0  I have so many responses to this, but most of ...  UnVerif      NaN   \n",
              "1                                                  1   NonArg      NaN   \n",
              "2  When you say things like \"drain on society\" or...  UnVerif      NaN   \n",
              "3  For every person who takes more than they give...  UnVerif      NaN   \n",
              "4  Most of the people in America don't see a dime...    Verif  NonPers   \n",
              "\n",
              "  difficulty  word_count     pov  \n",
              "0        NaN          26   first  \n",
              "1        NaN           1    none  \n",
              "2        NaN          26  second  \n",
              "3        NaN          19   third  \n",
              "4  Difficult          33   third  "
            ],
            "text/html": [
              "\n",
              "  <div id=\"df-54460867-5d65-4cd4-8f32-a32c2ba4d5b0\">\n",
              "    <div class=\"colab-df-container\">\n",
              "      <div>\n",
              "<style scoped>\n",
              "    .dataframe tbody tr th:only-of-type {\n",
              "        vertical-align: middle;\n",
              "    }\n",
              "\n",
              "    .dataframe tbody tr th {\n",
              "        vertical-align: top;\n",
              "    }\n",
              "\n",
              "    .dataframe thead th {\n",
              "        text-align: right;\n",
              "    }\n",
              "</style>\n",
              "<table border=\"1\" class=\"dataframe\">\n",
              "  <thead>\n",
              "    <tr style=\"text-align: right;\">\n",
              "      <th></th>\n",
              "      <th>sentence</th>\n",
              "      <th>verif</th>\n",
              "      <th>personal</th>\n",
              "      <th>difficulty</th>\n",
              "      <th>word_count</th>\n",
              "      <th>pov</th>\n",
              "    </tr>\n",
              "  </thead>\n",
              "  <tbody>\n",
              "    <tr>\n",
              "      <th>0</th>\n",
              "      <td>I have so many responses to this, but most of ...</td>\n",
              "      <td>UnVerif</td>\n",
              "      <td>NaN</td>\n",
              "      <td>NaN</td>\n",
              "      <td>26</td>\n",
              "      <td>first</td>\n",
              "    </tr>\n",
              "    <tr>\n",
              "      <th>1</th>\n",
              "      <td>1</td>\n",
              "      <td>NonArg</td>\n",
              "      <td>NaN</td>\n",
              "      <td>NaN</td>\n",
              "      <td>1</td>\n",
              "      <td>none</td>\n",
              "    </tr>\n",
              "    <tr>\n",
              "      <th>2</th>\n",
              "      <td>When you say things like \"drain on society\" or...</td>\n",
              "      <td>UnVerif</td>\n",
              "      <td>NaN</td>\n",
              "      <td>NaN</td>\n",
              "      <td>26</td>\n",
              "      <td>second</td>\n",
              "    </tr>\n",
              "    <tr>\n",
              "      <th>3</th>\n",
              "      <td>For every person who takes more than they give...</td>\n",
              "      <td>UnVerif</td>\n",
              "      <td>NaN</td>\n",
              "      <td>NaN</td>\n",
              "      <td>19</td>\n",
              "      <td>third</td>\n",
              "    </tr>\n",
              "    <tr>\n",
              "      <th>4</th>\n",
              "      <td>Most of the people in America don't see a dime...</td>\n",
              "      <td>Verif</td>\n",
              "      <td>NonPers</td>\n",
              "      <td>Difficult</td>\n",
              "      <td>33</td>\n",
              "      <td>third</td>\n",
              "    </tr>\n",
              "  </tbody>\n",
              "</table>\n",
              "</div>\n",
              "      <button class=\"colab-df-convert\" onclick=\"convertToInteractive('df-54460867-5d65-4cd4-8f32-a32c2ba4d5b0')\"\n",
              "              title=\"Convert this dataframe to an interactive table.\"\n",
              "              style=\"display:none;\">\n",
              "        \n",
              "  <svg xmlns=\"http://www.w3.org/2000/svg\" height=\"24px\"viewBox=\"0 0 24 24\"\n",
              "       width=\"24px\">\n",
              "    <path d=\"M0 0h24v24H0V0z\" fill=\"none\"/>\n",
              "    <path d=\"M18.56 5.44l.94 2.06.94-2.06 2.06-.94-2.06-.94-.94-2.06-.94 2.06-2.06.94zm-11 1L8.5 8.5l.94-2.06 2.06-.94-2.06-.94L8.5 2.5l-.94 2.06-2.06.94zm10 10l.94 2.06.94-2.06 2.06-.94-2.06-.94-.94-2.06-.94 2.06-2.06.94z\"/><path d=\"M17.41 7.96l-1.37-1.37c-.4-.4-.92-.59-1.43-.59-.52 0-1.04.2-1.43.59L10.3 9.45l-7.72 7.72c-.78.78-.78 2.05 0 2.83L4 21.41c.39.39.9.59 1.41.59.51 0 1.02-.2 1.41-.59l7.78-7.78 2.81-2.81c.8-.78.8-2.07 0-2.86zM5.41 20L4 18.59l7.72-7.72 1.47 1.35L5.41 20z\"/>\n",
              "  </svg>\n",
              "      </button>\n",
              "      \n",
              "  <style>\n",
              "    .colab-df-container {\n",
              "      display:flex;\n",
              "      flex-wrap:wrap;\n",
              "      gap: 12px;\n",
              "    }\n",
              "\n",
              "    .colab-df-convert {\n",
              "      background-color: #E8F0FE;\n",
              "      border: none;\n",
              "      border-radius: 50%;\n",
              "      cursor: pointer;\n",
              "      display: none;\n",
              "      fill: #1967D2;\n",
              "      height: 32px;\n",
              "      padding: 0 0 0 0;\n",
              "      width: 32px;\n",
              "    }\n",
              "\n",
              "    .colab-df-convert:hover {\n",
              "      background-color: #E2EBFA;\n",
              "      box-shadow: 0px 1px 2px rgba(60, 64, 67, 0.3), 0px 1px 3px 1px rgba(60, 64, 67, 0.15);\n",
              "      fill: #174EA6;\n",
              "    }\n",
              "\n",
              "    [theme=dark] .colab-df-convert {\n",
              "      background-color: #3B4455;\n",
              "      fill: #D2E3FC;\n",
              "    }\n",
              "\n",
              "    [theme=dark] .colab-df-convert:hover {\n",
              "      background-color: #434B5C;\n",
              "      box-shadow: 0px 1px 3px 1px rgba(0, 0, 0, 0.15);\n",
              "      filter: drop-shadow(0px 1px 2px rgba(0, 0, 0, 0.3));\n",
              "      fill: #FFFFFF;\n",
              "    }\n",
              "  </style>\n",
              "\n",
              "      <script>\n",
              "        const buttonEl =\n",
              "          document.querySelector('#df-54460867-5d65-4cd4-8f32-a32c2ba4d5b0 button.colab-df-convert');\n",
              "        buttonEl.style.display =\n",
              "          google.colab.kernel.accessAllowed ? 'block' : 'none';\n",
              "\n",
              "        async function convertToInteractive(key) {\n",
              "          const element = document.querySelector('#df-54460867-5d65-4cd4-8f32-a32c2ba4d5b0');\n",
              "          const dataTable =\n",
              "            await google.colab.kernel.invokeFunction('convertToInteractive',\n",
              "                                                     [key], {});\n",
              "          if (!dataTable) return;\n",
              "\n",
              "          const docLinkHtml = 'Like what you see? Visit the ' +\n",
              "            '<a target=\"_blank\" href=https://colab.research.google.com/notebooks/data_table.ipynb>data table notebook</a>'\n",
              "            + ' to learn more about interactive tables.';\n",
              "          element.innerHTML = '';\n",
              "          dataTable['output_type'] = 'display_data';\n",
              "          await google.colab.output.renderOutput(dataTable, element);\n",
              "          const docLink = document.createElement('div');\n",
              "          docLink.innerHTML = docLinkHtml;\n",
              "          element.appendChild(docLink);\n",
              "        }\n",
              "      </script>\n",
              "    </div>\n",
              "  </div>\n",
              "  "
            ]
          },
          "metadata": {},
          "execution_count": 7
        }
      ],
      "source": [
        "# REFINE THE TRAIN DATAFRAME\n",
        "# Drop the columns not needed (for now)\n",
        "train_df_refined = train_df.drop(['thread_id', 'comment_id', 'comment', 'id', 'annotator', 'annotation_id', 'created_at', 'updated_at', 'lead_time'], axis = 1)\n",
        "\n",
        "# Add word count\n",
        "train_df_refined['word_count'] = train_df_refined['sentence'].apply(lambda x: len(x.split()))\n",
        "\n",
        "# Add point of view\n",
        "train_df_refined['pov'] = train_df_refined['sentence'].apply(lambda x: custom_pov(x))\n",
        "\n",
        "# Show first 5 entries\n",
        "train_df_refined.head()"
      ]
    },
    {
      "cell_type": "code",
      "execution_count": 8,
      "metadata": {
        "colab": {
          "base_uri": "https://localhost:8080/",
          "height": 206
        },
        "id": "qNDAtLMs20Jn",
        "outputId": "c8070961-34f7-4b4d-a138-32b4ad090d59"
      },
      "outputs": [
        {
          "output_type": "execute_result",
          "data": {
            "text/plain": [
              "                                            sentence    verif personal  \\\n",
              "0  I have spent 6 years at 2 different universiti...  UnVerif      NaN   \n",
              "1  They seem like small private groups that peopl...  UnVerif      NaN   \n",
              "2  Do you have evidence of safe spaces growing an...   NonArg      NaN   \n",
              "3         A safe space isn't inherently a bad thing.  UnVerif      NaN   \n",
              "4                           Think of it like a club.  UnVerif      NaN   \n",
              "\n",
              "  difficulty  word_count     pov  \n",
              "0        NaN          44   first  \n",
              "1        NaN          30   third  \n",
              "2        NaN          13  second  \n",
              "3        NaN           8    none  \n",
              "4        NaN           6   third  "
            ],
            "text/html": [
              "\n",
              "  <div id=\"df-3c5d465c-dbca-4788-b7bd-7b923fa6a3e1\">\n",
              "    <div class=\"colab-df-container\">\n",
              "      <div>\n",
              "<style scoped>\n",
              "    .dataframe tbody tr th:only-of-type {\n",
              "        vertical-align: middle;\n",
              "    }\n",
              "\n",
              "    .dataframe tbody tr th {\n",
              "        vertical-align: top;\n",
              "    }\n",
              "\n",
              "    .dataframe thead th {\n",
              "        text-align: right;\n",
              "    }\n",
              "</style>\n",
              "<table border=\"1\" class=\"dataframe\">\n",
              "  <thead>\n",
              "    <tr style=\"text-align: right;\">\n",
              "      <th></th>\n",
              "      <th>sentence</th>\n",
              "      <th>verif</th>\n",
              "      <th>personal</th>\n",
              "      <th>difficulty</th>\n",
              "      <th>word_count</th>\n",
              "      <th>pov</th>\n",
              "    </tr>\n",
              "  </thead>\n",
              "  <tbody>\n",
              "    <tr>\n",
              "      <th>0</th>\n",
              "      <td>I have spent 6 years at 2 different universiti...</td>\n",
              "      <td>UnVerif</td>\n",
              "      <td>NaN</td>\n",
              "      <td>NaN</td>\n",
              "      <td>44</td>\n",
              "      <td>first</td>\n",
              "    </tr>\n",
              "    <tr>\n",
              "      <th>1</th>\n",
              "      <td>They seem like small private groups that peopl...</td>\n",
              "      <td>UnVerif</td>\n",
              "      <td>NaN</td>\n",
              "      <td>NaN</td>\n",
              "      <td>30</td>\n",
              "      <td>third</td>\n",
              "    </tr>\n",
              "    <tr>\n",
              "      <th>2</th>\n",
              "      <td>Do you have evidence of safe spaces growing an...</td>\n",
              "      <td>NonArg</td>\n",
              "      <td>NaN</td>\n",
              "      <td>NaN</td>\n",
              "      <td>13</td>\n",
              "      <td>second</td>\n",
              "    </tr>\n",
              "    <tr>\n",
              "      <th>3</th>\n",
              "      <td>A safe space isn't inherently a bad thing.</td>\n",
              "      <td>UnVerif</td>\n",
              "      <td>NaN</td>\n",
              "      <td>NaN</td>\n",
              "      <td>8</td>\n",
              "      <td>none</td>\n",
              "    </tr>\n",
              "    <tr>\n",
              "      <th>4</th>\n",
              "      <td>Think of it like a club.</td>\n",
              "      <td>UnVerif</td>\n",
              "      <td>NaN</td>\n",
              "      <td>NaN</td>\n",
              "      <td>6</td>\n",
              "      <td>third</td>\n",
              "    </tr>\n",
              "  </tbody>\n",
              "</table>\n",
              "</div>\n",
              "      <button class=\"colab-df-convert\" onclick=\"convertToInteractive('df-3c5d465c-dbca-4788-b7bd-7b923fa6a3e1')\"\n",
              "              title=\"Convert this dataframe to an interactive table.\"\n",
              "              style=\"display:none;\">\n",
              "        \n",
              "  <svg xmlns=\"http://www.w3.org/2000/svg\" height=\"24px\"viewBox=\"0 0 24 24\"\n",
              "       width=\"24px\">\n",
              "    <path d=\"M0 0h24v24H0V0z\" fill=\"none\"/>\n",
              "    <path d=\"M18.56 5.44l.94 2.06.94-2.06 2.06-.94-2.06-.94-.94-2.06-.94 2.06-2.06.94zm-11 1L8.5 8.5l.94-2.06 2.06-.94-2.06-.94L8.5 2.5l-.94 2.06-2.06.94zm10 10l.94 2.06.94-2.06 2.06-.94-2.06-.94-.94-2.06-.94 2.06-2.06.94z\"/><path d=\"M17.41 7.96l-1.37-1.37c-.4-.4-.92-.59-1.43-.59-.52 0-1.04.2-1.43.59L10.3 9.45l-7.72 7.72c-.78.78-.78 2.05 0 2.83L4 21.41c.39.39.9.59 1.41.59.51 0 1.02-.2 1.41-.59l7.78-7.78 2.81-2.81c.8-.78.8-2.07 0-2.86zM5.41 20L4 18.59l7.72-7.72 1.47 1.35L5.41 20z\"/>\n",
              "  </svg>\n",
              "      </button>\n",
              "      \n",
              "  <style>\n",
              "    .colab-df-container {\n",
              "      display:flex;\n",
              "      flex-wrap:wrap;\n",
              "      gap: 12px;\n",
              "    }\n",
              "\n",
              "    .colab-df-convert {\n",
              "      background-color: #E8F0FE;\n",
              "      border: none;\n",
              "      border-radius: 50%;\n",
              "      cursor: pointer;\n",
              "      display: none;\n",
              "      fill: #1967D2;\n",
              "      height: 32px;\n",
              "      padding: 0 0 0 0;\n",
              "      width: 32px;\n",
              "    }\n",
              "\n",
              "    .colab-df-convert:hover {\n",
              "      background-color: #E2EBFA;\n",
              "      box-shadow: 0px 1px 2px rgba(60, 64, 67, 0.3), 0px 1px 3px 1px rgba(60, 64, 67, 0.15);\n",
              "      fill: #174EA6;\n",
              "    }\n",
              "\n",
              "    [theme=dark] .colab-df-convert {\n",
              "      background-color: #3B4455;\n",
              "      fill: #D2E3FC;\n",
              "    }\n",
              "\n",
              "    [theme=dark] .colab-df-convert:hover {\n",
              "      background-color: #434B5C;\n",
              "      box-shadow: 0px 1px 3px 1px rgba(0, 0, 0, 0.15);\n",
              "      filter: drop-shadow(0px 1px 2px rgba(0, 0, 0, 0.3));\n",
              "      fill: #FFFFFF;\n",
              "    }\n",
              "  </style>\n",
              "\n",
              "      <script>\n",
              "        const buttonEl =\n",
              "          document.querySelector('#df-3c5d465c-dbca-4788-b7bd-7b923fa6a3e1 button.colab-df-convert');\n",
              "        buttonEl.style.display =\n",
              "          google.colab.kernel.accessAllowed ? 'block' : 'none';\n",
              "\n",
              "        async function convertToInteractive(key) {\n",
              "          const element = document.querySelector('#df-3c5d465c-dbca-4788-b7bd-7b923fa6a3e1');\n",
              "          const dataTable =\n",
              "            await google.colab.kernel.invokeFunction('convertToInteractive',\n",
              "                                                     [key], {});\n",
              "          if (!dataTable) return;\n",
              "\n",
              "          const docLinkHtml = 'Like what you see? Visit the ' +\n",
              "            '<a target=\"_blank\" href=https://colab.research.google.com/notebooks/data_table.ipynb>data table notebook</a>'\n",
              "            + ' to learn more about interactive tables.';\n",
              "          element.innerHTML = '';\n",
              "          dataTable['output_type'] = 'display_data';\n",
              "          await google.colab.output.renderOutput(dataTable, element);\n",
              "          const docLink = document.createElement('div');\n",
              "          docLink.innerHTML = docLinkHtml;\n",
              "          element.appendChild(docLink);\n",
              "        }\n",
              "      </script>\n",
              "    </div>\n",
              "  </div>\n",
              "  "
            ]
          },
          "metadata": {},
          "execution_count": 8
        }
      ],
      "source": [
        "# REFINE THE TEST DATAFRAME\n",
        "# Drop the columns not needed (for now)\n",
        "test_df_refined = test_df.drop(['thread_id', 'comment_id', 'comment', 'id', 'annotator', 'annotation_id', 'created_at', 'updated_at', 'lead_time'], axis = 1)\n",
        "\n",
        "# Add word count\n",
        "test_df_refined['word_count'] = test_df_refined['sentence'].apply(lambda x: len(x.split()))\n",
        "\n",
        "# Add point of view\n",
        "test_df_refined['pov'] = test_df_refined['sentence'].apply(lambda x: custom_pov(x))\n",
        "\n",
        "# Show first 5 entries\n",
        "test_df_refined.head()"
      ]
    },
    {
      "cell_type": "code",
      "execution_count": 9,
      "metadata": {
        "id": "ZShVQs7JglUD"
      },
      "outputs": [],
      "source": [
        "# To get the POS Count feature, we need to add the POS tags to each word\n",
        "nlp = spacy.load(\"en_core_web_sm\")\n",
        "\n",
        "def get_POS_tags(sentence):\n",
        "  doc = nlp(sentence)\n",
        "  POS_tag_list = []\n",
        "  for token in doc:\n",
        "    POS_tag = token.pos_\n",
        "    POS_tag_list.append(POS_tag) \n",
        "  return \" \".join(POS_tag_list)\n",
        "\n",
        "\n",
        "    \n",
        "train_df_refined['POS_tags'] = train_df_refined['sentence'].apply(lambda x: get_POS_tags(x)) \n",
        "test_df_refined['POS_tags'] = test_df_refined['sentence'].apply(lambda x: get_POS_tags(x)) \n",
        "  "
      ]
    },
    {
      "cell_type": "code",
      "execution_count": 10,
      "metadata": {
        "id": "cSb7A1XTjJCK"
      },
      "outputs": [],
      "source": [
        "# Function for determining the tense of a sentence\n",
        "def determine_tense(sentence):\n",
        "  doc = nlp(sentence)\n",
        "  for token in doc:\n",
        "    future_tense = False\n",
        "    if 'Tense_pres' in nlp.vocab.morphology.tag_map[token.tag_].keys():\n",
        "      return 'present'\n",
        "      break\n",
        "    elif 'Tense_past' in nlp.vocab.morphology.tag_map[token.tag_].keys():\n",
        "      return 'past'\n",
        "      break\n",
        "    elif 'VerbType_mod' in nlp.vocab.morphology.tag_map[token.tag_].keys():\n",
        "      future_tense = True\n",
        "    elif 'VerbForm_inf' in nlp.vocab.morphology.tag_map[token.tag_].keys():\n",
        "      return 'future'\n",
        "      future_tense = False\n",
        "      break\n",
        "\n",
        "def remove_none_from_tense(sentence):\n",
        "  if determine_tense(sentence) == None:\n",
        "    return 'none'\n",
        "  else:\n",
        "    return determine_tense(sentence)\n",
        "\n",
        "train_df_refined['tense'] = train_df_refined['sentence'].apply(lambda x: remove_none_from_tense(x)) \n",
        "test_df_refined['tense'] = test_df_refined['sentence'].apply(lambda x: remove_none_from_tense(x)) "
      ]
    },
    {
      "cell_type": "code",
      "execution_count": null,
      "metadata": {
        "colab": {
          "base_uri": "https://localhost:8080/",
          "height": 206
        },
        "id": "OuYF8GcJlP4L",
        "outputId": "a751d7d0-20ad-4404-80d8-07ae5de0ef86"
      },
      "outputs": [
        {
          "output_type": "execute_result",
          "data": {
            "text/plain": [
              "                                            sentence    verif personal  \\\n",
              "0  I have so many responses to this, but most of ...  UnVerif      NaN   \n",
              "1                                                  1   NonArg      NaN   \n",
              "2  When you say things like \"drain on society\" or...  UnVerif      NaN   \n",
              "3  For every person who takes more than they give...  UnVerif      NaN   \n",
              "4  Most of the people in America don't see a dime...    Verif  NonPers   \n",
              "\n",
              "  difficulty  word_count     pov  \\\n",
              "0        NaN          26   first   \n",
              "1        NaN           1    none   \n",
              "2        NaN          26  second   \n",
              "3        NaN          19   third   \n",
              "4  Difficult          33   third   \n",
              "\n",
              "                                            POS_tags    tense  \n",
              "0  PRON AUX ADV ADJ NOUN ADP DET PUNCT CCONJ ADJ ...  present  \n",
              "1                                                  X     none  \n",
              "2  ADV PRON VERB NOUN SCONJ PUNCT VERB ADP NOUN P...  present  \n",
              "3  ADP DET NOUN PRON VERB ADJ SCONJ PRON VERB PUN...  present  \n",
              "4  ADJ ADP DET NOUN ADP PROPN AUX PART VERB DET N...  present  "
            ],
            "text/html": [
              "\n",
              "  <div id=\"df-b32dae3b-6462-46a9-abbf-116f751ce8b3\">\n",
              "    <div class=\"colab-df-container\">\n",
              "      <div>\n",
              "<style scoped>\n",
              "    .dataframe tbody tr th:only-of-type {\n",
              "        vertical-align: middle;\n",
              "    }\n",
              "\n",
              "    .dataframe tbody tr th {\n",
              "        vertical-align: top;\n",
              "    }\n",
              "\n",
              "    .dataframe thead th {\n",
              "        text-align: right;\n",
              "    }\n",
              "</style>\n",
              "<table border=\"1\" class=\"dataframe\">\n",
              "  <thead>\n",
              "    <tr style=\"text-align: right;\">\n",
              "      <th></th>\n",
              "      <th>sentence</th>\n",
              "      <th>verif</th>\n",
              "      <th>personal</th>\n",
              "      <th>difficulty</th>\n",
              "      <th>word_count</th>\n",
              "      <th>pov</th>\n",
              "      <th>POS_tags</th>\n",
              "      <th>tense</th>\n",
              "    </tr>\n",
              "  </thead>\n",
              "  <tbody>\n",
              "    <tr>\n",
              "      <th>0</th>\n",
              "      <td>I have so many responses to this, but most of ...</td>\n",
              "      <td>UnVerif</td>\n",
              "      <td>NaN</td>\n",
              "      <td>NaN</td>\n",
              "      <td>26</td>\n",
              "      <td>first</td>\n",
              "      <td>PRON AUX ADV ADJ NOUN ADP DET PUNCT CCONJ ADJ ...</td>\n",
              "      <td>present</td>\n",
              "    </tr>\n",
              "    <tr>\n",
              "      <th>1</th>\n",
              "      <td>1</td>\n",
              "      <td>NonArg</td>\n",
              "      <td>NaN</td>\n",
              "      <td>NaN</td>\n",
              "      <td>1</td>\n",
              "      <td>none</td>\n",
              "      <td>X</td>\n",
              "      <td>none</td>\n",
              "    </tr>\n",
              "    <tr>\n",
              "      <th>2</th>\n",
              "      <td>When you say things like \"drain on society\" or...</td>\n",
              "      <td>UnVerif</td>\n",
              "      <td>NaN</td>\n",
              "      <td>NaN</td>\n",
              "      <td>26</td>\n",
              "      <td>second</td>\n",
              "      <td>ADV PRON VERB NOUN SCONJ PUNCT VERB ADP NOUN P...</td>\n",
              "      <td>present</td>\n",
              "    </tr>\n",
              "    <tr>\n",
              "      <th>3</th>\n",
              "      <td>For every person who takes more than they give...</td>\n",
              "      <td>UnVerif</td>\n",
              "      <td>NaN</td>\n",
              "      <td>NaN</td>\n",
              "      <td>19</td>\n",
              "      <td>third</td>\n",
              "      <td>ADP DET NOUN PRON VERB ADJ SCONJ PRON VERB PUN...</td>\n",
              "      <td>present</td>\n",
              "    </tr>\n",
              "    <tr>\n",
              "      <th>4</th>\n",
              "      <td>Most of the people in America don't see a dime...</td>\n",
              "      <td>Verif</td>\n",
              "      <td>NonPers</td>\n",
              "      <td>Difficult</td>\n",
              "      <td>33</td>\n",
              "      <td>third</td>\n",
              "      <td>ADJ ADP DET NOUN ADP PROPN AUX PART VERB DET N...</td>\n",
              "      <td>present</td>\n",
              "    </tr>\n",
              "  </tbody>\n",
              "</table>\n",
              "</div>\n",
              "      <button class=\"colab-df-convert\" onclick=\"convertToInteractive('df-b32dae3b-6462-46a9-abbf-116f751ce8b3')\"\n",
              "              title=\"Convert this dataframe to an interactive table.\"\n",
              "              style=\"display:none;\">\n",
              "        \n",
              "  <svg xmlns=\"http://www.w3.org/2000/svg\" height=\"24px\"viewBox=\"0 0 24 24\"\n",
              "       width=\"24px\">\n",
              "    <path d=\"M0 0h24v24H0V0z\" fill=\"none\"/>\n",
              "    <path d=\"M18.56 5.44l.94 2.06.94-2.06 2.06-.94-2.06-.94-.94-2.06-.94 2.06-2.06.94zm-11 1L8.5 8.5l.94-2.06 2.06-.94-2.06-.94L8.5 2.5l-.94 2.06-2.06.94zm10 10l.94 2.06.94-2.06 2.06-.94-2.06-.94-.94-2.06-.94 2.06-2.06.94z\"/><path d=\"M17.41 7.96l-1.37-1.37c-.4-.4-.92-.59-1.43-.59-.52 0-1.04.2-1.43.59L10.3 9.45l-7.72 7.72c-.78.78-.78 2.05 0 2.83L4 21.41c.39.39.9.59 1.41.59.51 0 1.02-.2 1.41-.59l7.78-7.78 2.81-2.81c.8-.78.8-2.07 0-2.86zM5.41 20L4 18.59l7.72-7.72 1.47 1.35L5.41 20z\"/>\n",
              "  </svg>\n",
              "      </button>\n",
              "      \n",
              "  <style>\n",
              "    .colab-df-container {\n",
              "      display:flex;\n",
              "      flex-wrap:wrap;\n",
              "      gap: 12px;\n",
              "    }\n",
              "\n",
              "    .colab-df-convert {\n",
              "      background-color: #E8F0FE;\n",
              "      border: none;\n",
              "      border-radius: 50%;\n",
              "      cursor: pointer;\n",
              "      display: none;\n",
              "      fill: #1967D2;\n",
              "      height: 32px;\n",
              "      padding: 0 0 0 0;\n",
              "      width: 32px;\n",
              "    }\n",
              "\n",
              "    .colab-df-convert:hover {\n",
              "      background-color: #E2EBFA;\n",
              "      box-shadow: 0px 1px 2px rgba(60, 64, 67, 0.3), 0px 1px 3px 1px rgba(60, 64, 67, 0.15);\n",
              "      fill: #174EA6;\n",
              "    }\n",
              "\n",
              "    [theme=dark] .colab-df-convert {\n",
              "      background-color: #3B4455;\n",
              "      fill: #D2E3FC;\n",
              "    }\n",
              "\n",
              "    [theme=dark] .colab-df-convert:hover {\n",
              "      background-color: #434B5C;\n",
              "      box-shadow: 0px 1px 3px 1px rgba(0, 0, 0, 0.15);\n",
              "      filter: drop-shadow(0px 1px 2px rgba(0, 0, 0, 0.3));\n",
              "      fill: #FFFFFF;\n",
              "    }\n",
              "  </style>\n",
              "\n",
              "      <script>\n",
              "        const buttonEl =\n",
              "          document.querySelector('#df-b32dae3b-6462-46a9-abbf-116f751ce8b3 button.colab-df-convert');\n",
              "        buttonEl.style.display =\n",
              "          google.colab.kernel.accessAllowed ? 'block' : 'none';\n",
              "\n",
              "        async function convertToInteractive(key) {\n",
              "          const element = document.querySelector('#df-b32dae3b-6462-46a9-abbf-116f751ce8b3');\n",
              "          const dataTable =\n",
              "            await google.colab.kernel.invokeFunction('convertToInteractive',\n",
              "                                                     [key], {});\n",
              "          if (!dataTable) return;\n",
              "\n",
              "          const docLinkHtml = 'Like what you see? Visit the ' +\n",
              "            '<a target=\"_blank\" href=https://colab.research.google.com/notebooks/data_table.ipynb>data table notebook</a>'\n",
              "            + ' to learn more about interactive tables.';\n",
              "          element.innerHTML = '';\n",
              "          dataTable['output_type'] = 'display_data';\n",
              "          await google.colab.output.renderOutput(dataTable, element);\n",
              "          const docLink = document.createElement('div');\n",
              "          docLink.innerHTML = docLinkHtml;\n",
              "          element.appendChild(docLink);\n",
              "        }\n",
              "      </script>\n",
              "    </div>\n",
              "  </div>\n",
              "  "
            ]
          },
          "metadata": {},
          "execution_count": 11
        }
      ],
      "source": [
        "train_df_refined.head()"
      ]
    },
    {
      "cell_type": "code",
      "execution_count": null,
      "metadata": {
        "colab": {
          "base_uri": "https://localhost:8080/",
          "height": 206
        },
        "id": "ui6eYtYQ3diB",
        "outputId": "1c71235b-3931-4db1-c32f-9c2e2fdff529"
      },
      "outputs": [
        {
          "output_type": "execute_result",
          "data": {
            "text/plain": [
              "                                            sentence    verif personal  \\\n",
              "0  I have spent 6 years at 2 different universiti...  UnVerif      NaN   \n",
              "1  They seem like small private groups that peopl...  UnVerif      NaN   \n",
              "2  Do you have evidence of safe spaces growing an...   NonArg      NaN   \n",
              "3         A safe space isn't inherently a bad thing.  UnVerif      NaN   \n",
              "4                           Think of it like a club.  UnVerif      NaN   \n",
              "\n",
              "  difficulty  word_count     pov  \\\n",
              "0        NaN          44   first   \n",
              "1        NaN          30   third   \n",
              "2        NaN          13  second   \n",
              "3        NaN           8    none   \n",
              "4        NaN           6   third   \n",
              "\n",
              "                                            POS_tags    tense  \n",
              "0  PRON AUX VERB NUM NOUN ADP NUM ADJ NOUN CCONJ ...  present  \n",
              "1  PRON VERB SCONJ ADJ ADJ NOUN DET NOUN VERB DET...  present  \n",
              "2  AUX PRON AUX NOUN ADP ADJ NOUN VERB CCONJ VERB...  present  \n",
              "3       DET ADJ NOUN AUX PART ADV DET ADJ NOUN PUNCT  present  \n",
              "4                 VERB ADP PRON SCONJ DET NOUN PUNCT   future  "
            ],
            "text/html": [
              "\n",
              "  <div id=\"df-d8adf848-3058-4602-926e-1dea4f36d147\">\n",
              "    <div class=\"colab-df-container\">\n",
              "      <div>\n",
              "<style scoped>\n",
              "    .dataframe tbody tr th:only-of-type {\n",
              "        vertical-align: middle;\n",
              "    }\n",
              "\n",
              "    .dataframe tbody tr th {\n",
              "        vertical-align: top;\n",
              "    }\n",
              "\n",
              "    .dataframe thead th {\n",
              "        text-align: right;\n",
              "    }\n",
              "</style>\n",
              "<table border=\"1\" class=\"dataframe\">\n",
              "  <thead>\n",
              "    <tr style=\"text-align: right;\">\n",
              "      <th></th>\n",
              "      <th>sentence</th>\n",
              "      <th>verif</th>\n",
              "      <th>personal</th>\n",
              "      <th>difficulty</th>\n",
              "      <th>word_count</th>\n",
              "      <th>pov</th>\n",
              "      <th>POS_tags</th>\n",
              "      <th>tense</th>\n",
              "    </tr>\n",
              "  </thead>\n",
              "  <tbody>\n",
              "    <tr>\n",
              "      <th>0</th>\n",
              "      <td>I have spent 6 years at 2 different universiti...</td>\n",
              "      <td>UnVerif</td>\n",
              "      <td>NaN</td>\n",
              "      <td>NaN</td>\n",
              "      <td>44</td>\n",
              "      <td>first</td>\n",
              "      <td>PRON AUX VERB NUM NOUN ADP NUM ADJ NOUN CCONJ ...</td>\n",
              "      <td>present</td>\n",
              "    </tr>\n",
              "    <tr>\n",
              "      <th>1</th>\n",
              "      <td>They seem like small private groups that peopl...</td>\n",
              "      <td>UnVerif</td>\n",
              "      <td>NaN</td>\n",
              "      <td>NaN</td>\n",
              "      <td>30</td>\n",
              "      <td>third</td>\n",
              "      <td>PRON VERB SCONJ ADJ ADJ NOUN DET NOUN VERB DET...</td>\n",
              "      <td>present</td>\n",
              "    </tr>\n",
              "    <tr>\n",
              "      <th>2</th>\n",
              "      <td>Do you have evidence of safe spaces growing an...</td>\n",
              "      <td>NonArg</td>\n",
              "      <td>NaN</td>\n",
              "      <td>NaN</td>\n",
              "      <td>13</td>\n",
              "      <td>second</td>\n",
              "      <td>AUX PRON AUX NOUN ADP ADJ NOUN VERB CCONJ VERB...</td>\n",
              "      <td>present</td>\n",
              "    </tr>\n",
              "    <tr>\n",
              "      <th>3</th>\n",
              "      <td>A safe space isn't inherently a bad thing.</td>\n",
              "      <td>UnVerif</td>\n",
              "      <td>NaN</td>\n",
              "      <td>NaN</td>\n",
              "      <td>8</td>\n",
              "      <td>none</td>\n",
              "      <td>DET ADJ NOUN AUX PART ADV DET ADJ NOUN PUNCT</td>\n",
              "      <td>present</td>\n",
              "    </tr>\n",
              "    <tr>\n",
              "      <th>4</th>\n",
              "      <td>Think of it like a club.</td>\n",
              "      <td>UnVerif</td>\n",
              "      <td>NaN</td>\n",
              "      <td>NaN</td>\n",
              "      <td>6</td>\n",
              "      <td>third</td>\n",
              "      <td>VERB ADP PRON SCONJ DET NOUN PUNCT</td>\n",
              "      <td>future</td>\n",
              "    </tr>\n",
              "  </tbody>\n",
              "</table>\n",
              "</div>\n",
              "      <button class=\"colab-df-convert\" onclick=\"convertToInteractive('df-d8adf848-3058-4602-926e-1dea4f36d147')\"\n",
              "              title=\"Convert this dataframe to an interactive table.\"\n",
              "              style=\"display:none;\">\n",
              "        \n",
              "  <svg xmlns=\"http://www.w3.org/2000/svg\" height=\"24px\"viewBox=\"0 0 24 24\"\n",
              "       width=\"24px\">\n",
              "    <path d=\"M0 0h24v24H0V0z\" fill=\"none\"/>\n",
              "    <path d=\"M18.56 5.44l.94 2.06.94-2.06 2.06-.94-2.06-.94-.94-2.06-.94 2.06-2.06.94zm-11 1L8.5 8.5l.94-2.06 2.06-.94-2.06-.94L8.5 2.5l-.94 2.06-2.06.94zm10 10l.94 2.06.94-2.06 2.06-.94-2.06-.94-.94-2.06-.94 2.06-2.06.94z\"/><path d=\"M17.41 7.96l-1.37-1.37c-.4-.4-.92-.59-1.43-.59-.52 0-1.04.2-1.43.59L10.3 9.45l-7.72 7.72c-.78.78-.78 2.05 0 2.83L4 21.41c.39.39.9.59 1.41.59.51 0 1.02-.2 1.41-.59l7.78-7.78 2.81-2.81c.8-.78.8-2.07 0-2.86zM5.41 20L4 18.59l7.72-7.72 1.47 1.35L5.41 20z\"/>\n",
              "  </svg>\n",
              "      </button>\n",
              "      \n",
              "  <style>\n",
              "    .colab-df-container {\n",
              "      display:flex;\n",
              "      flex-wrap:wrap;\n",
              "      gap: 12px;\n",
              "    }\n",
              "\n",
              "    .colab-df-convert {\n",
              "      background-color: #E8F0FE;\n",
              "      border: none;\n",
              "      border-radius: 50%;\n",
              "      cursor: pointer;\n",
              "      display: none;\n",
              "      fill: #1967D2;\n",
              "      height: 32px;\n",
              "      padding: 0 0 0 0;\n",
              "      width: 32px;\n",
              "    }\n",
              "\n",
              "    .colab-df-convert:hover {\n",
              "      background-color: #E2EBFA;\n",
              "      box-shadow: 0px 1px 2px rgba(60, 64, 67, 0.3), 0px 1px 3px 1px rgba(60, 64, 67, 0.15);\n",
              "      fill: #174EA6;\n",
              "    }\n",
              "\n",
              "    [theme=dark] .colab-df-convert {\n",
              "      background-color: #3B4455;\n",
              "      fill: #D2E3FC;\n",
              "    }\n",
              "\n",
              "    [theme=dark] .colab-df-convert:hover {\n",
              "      background-color: #434B5C;\n",
              "      box-shadow: 0px 1px 3px 1px rgba(0, 0, 0, 0.15);\n",
              "      filter: drop-shadow(0px 1px 2px rgba(0, 0, 0, 0.3));\n",
              "      fill: #FFFFFF;\n",
              "    }\n",
              "  </style>\n",
              "\n",
              "      <script>\n",
              "        const buttonEl =\n",
              "          document.querySelector('#df-d8adf848-3058-4602-926e-1dea4f36d147 button.colab-df-convert');\n",
              "        buttonEl.style.display =\n",
              "          google.colab.kernel.accessAllowed ? 'block' : 'none';\n",
              "\n",
              "        async function convertToInteractive(key) {\n",
              "          const element = document.querySelector('#df-d8adf848-3058-4602-926e-1dea4f36d147');\n",
              "          const dataTable =\n",
              "            await google.colab.kernel.invokeFunction('convertToInteractive',\n",
              "                                                     [key], {});\n",
              "          if (!dataTable) return;\n",
              "\n",
              "          const docLinkHtml = 'Like what you see? Visit the ' +\n",
              "            '<a target=\"_blank\" href=https://colab.research.google.com/notebooks/data_table.ipynb>data table notebook</a>'\n",
              "            + ' to learn more about interactive tables.';\n",
              "          element.innerHTML = '';\n",
              "          dataTable['output_type'] = 'display_data';\n",
              "          await google.colab.output.renderOutput(dataTable, element);\n",
              "          const docLink = document.createElement('div');\n",
              "          docLink.innerHTML = docLinkHtml;\n",
              "          element.appendChild(docLink);\n",
              "        }\n",
              "      </script>\n",
              "    </div>\n",
              "  </div>\n",
              "  "
            ]
          },
          "metadata": {},
          "execution_count": 12
        }
      ],
      "source": [
        "test_df_refined.head()"
      ]
    },
    {
      "cell_type": "code",
      "execution_count": 11,
      "metadata": {
        "colab": {
          "base_uri": "https://localhost:8080/"
        },
        "id": "WqbiYIFcEquw",
        "outputId": "f0c668fb-283d-4654-ac13-956c76ed0e9f"
      },
      "outputs": [
        {
          "output_type": "stream",
          "name": "stderr",
          "text": [
            "/usr/local/lib/python3.7/dist-packages/pandas/util/_decorators.py:311: SettingWithCopyWarning: \n",
            "A value is trying to be set on a copy of a slice from a DataFrame\n",
            "\n",
            "See the caveats in the documentation: https://pandas.pydata.org/pandas-docs/stable/user_guide/indexing.html#returning-a-view-versus-a-copy\n",
            "  return func(*args, **kwargs)\n"
          ]
        }
      ],
      "source": [
        "# Train test split for main classes\n",
        "X_train = train_df_refined.iloc[:,train_df_refined.columns != 'verif']\n",
        "X_test = test_df_refined.iloc[:,test_df_refined.columns != 'verif']\n",
        "y_train = train_df_refined.verif\n",
        "y_test = test_df_refined.verif\n",
        "\n",
        "# Remove personal and difficulty for now\n",
        "X_train = X_train.drop(['personal', 'difficulty'], axis = 1)\n",
        "X_test = X_test.drop(['personal', 'difficulty'], axis = 1)\n",
        "\n",
        "# Train test split for Verifiable Personal/NonPersonal only\n",
        "# First make new dataframes and drop nan values\n",
        "verif_only_train_df = train_df_refined[train_df_refined['verif'] == 'Verif']\n",
        "verif_only_test_df = test_df_refined[test_df_refined['verif'] == 'Verif']\n",
        "\n",
        "verif_only_train_df.dropna(how='any', inplace=True)\n",
        "verif_only_test_df.dropna(how='any', inplace=True)\n",
        "\n",
        "# Make the train test split itself\n",
        "verif_only_train_df = verif_only_train_df.drop(['verif', 'difficulty'], axis = 1)\n",
        "verif_only_test_df = verif_only_test_df.drop(['verif', 'difficulty'], axis = 1)\n",
        "\n",
        "X_train_verif_pers = verif_only_train_df.iloc[:,verif_only_train_df.columns != 'personal']\n",
        "X_test_verif_pers = verif_only_test_df.iloc[:,verif_only_test_df.columns != 'personal']\n",
        "y_train_verif_pers = verif_only_train_df.personal\n",
        "y_test_verif_pers = verif_only_test_df.personal\n",
        "\n",
        "# Train test split for VerifiableEasy and UnVerif only\n",
        "verifeasy_unverif_train_df = train_df_refined.copy()\n",
        "verifeasy_unverif_train_df['label'] = verifeasy_unverif_train_df['verif'] + verifeasy_unverif_train_df['difficulty']\n",
        "verifeasy_unverif_train_df.label = verifeasy_unverif_train_df.label.fillna('UnVerif')\n",
        "verifeasy_unverif_train_df = verifeasy_unverif_train_df[verifeasy_unverif_train_df['label'] != 'VerifDifficult']\n",
        "verifeasy_unverif_train_df = verifeasy_unverif_train_df[verifeasy_unverif_train_df['verif'] != 'NonArg']\n",
        "verifeasy_unverif_train_df = verifeasy_unverif_train_df.drop(['verif', 'personal', 'difficulty'], axis = 1)\n",
        "\n",
        "verifeasy_unverif_test_df = test_df_refined.copy()\n",
        "verifeasy_unverif_test_df['label'] = verifeasy_unverif_test_df['verif'] + verifeasy_unverif_test_df['difficulty']\n",
        "verifeasy_unverif_test_df.label = verifeasy_unverif_test_df.label.fillna('UnVerif')\n",
        "verifeasy_unverif_test_df = verifeasy_unverif_test_df[verifeasy_unverif_test_df['label'] != 'VerifDifficult']\n",
        "verifeasy_unverif_test_df = verifeasy_unverif_test_df[verifeasy_unverif_test_df['verif'] != 'NonArg']\n",
        "verifeasy_unverif_test_df = verifeasy_unverif_test_df.drop(['verif', 'personal', 'difficulty'], axis = 1)\n",
        "\n",
        "X_train_easy_unverif = verifeasy_unverif_train_df.iloc[:,verifeasy_unverif_train_df.columns != 'label']\n",
        "X_test_easy_unverif = verifeasy_unverif_test_df.iloc[:,verifeasy_unverif_test_df.columns != 'label']\n",
        "y_train_easy_unverif = verifeasy_unverif_train_df.label\n",
        "y_test_easy_unverif = verifeasy_unverif_test_df.label\n",
        "\n",
        "# Train test split for VerifiableDifficult and UnVerif only\n",
        "verifdifficult_unverif_train_df = train_df_refined.copy()\n",
        "verifdifficult_unverif_train_df['label'] = verifdifficult_unverif_train_df['verif'] + verifdifficult_unverif_train_df['difficulty']\n",
        "verifdifficult_unverif_train_df.label = verifdifficult_unverif_train_df.label.fillna('UnVerif')\n",
        "verifdifficult_unverif_train_df = verifdifficult_unverif_train_df[verifdifficult_unverif_train_df['label'] != 'VerifEasy']\n",
        "verifdifficult_unverif_train_df = verifdifficult_unverif_train_df[verifdifficult_unverif_train_df['verif'] != 'NonArg']\n",
        "verifdifficult_unverif_train_df = verifdifficult_unverif_train_df.drop(['verif', 'personal', 'difficulty'], axis = 1)\n",
        "\n",
        "verifdifficult_unverif_test_df = test_df_refined.copy()\n",
        "verifdifficult_unverif_test_df['label'] = verifdifficult_unverif_test_df['verif'] + verifdifficult_unverif_test_df['difficulty']\n",
        "verifdifficult_unverif_test_df.label = verifdifficult_unverif_test_df.label.fillna('UnVerif')\n",
        "verifdifficult_unverif_test_df = verifdifficult_unverif_test_df[verifdifficult_unverif_test_df['label'] != 'VerifEasy']\n",
        "verifdifficult_unverif_test_df = verifdifficult_unverif_test_df[verifdifficult_unverif_test_df['verif'] != 'NonArg']\n",
        "verifdifficult_unverif_test_df = verifdifficult_unverif_test_df.drop(['verif', 'personal', 'difficulty'], axis = 1)\n",
        "\n",
        "X_train_difficult_unverif = verifdifficult_unverif_train_df.iloc[:,verifdifficult_unverif_train_df.columns != 'label']\n",
        "X_test_difficult_unverif = verifdifficult_unverif_test_df.iloc[:,verifdifficult_unverif_test_df.columns != 'label']\n",
        "y_train_difficult_unverif = verifdifficult_unverif_train_df.label\n",
        "y_test_difficult_unverif = verifdifficult_unverif_test_df.label\n",
        "\n",
        "\n",
        "\n",
        "# calculate distribution of the classes\n",
        "# train the model without either verifeasy or verifdifficult, but keep same test set\n",
        "# WITHOUT VERIFDIFFICULT\n",
        "all_except_verifdifficult_train_df = train_df_refined.copy()\n",
        "all_except_verifdifficult_train_df = all_except_verifdifficult_train_df.fillna('')\n",
        "all_except_verifdifficult_train_df['label'] = all_except_verifdifficult_train_df['verif'] + all_except_verifdifficult_train_df['difficulty']\n",
        "all_except_verifdifficult_train_df = all_except_verifdifficult_train_df[all_except_verifdifficult_train_df['label'] != 'VerifDifficult']\n",
        "all_except_verifdifficult_train_df = all_except_verifdifficult_train_df.drop(['verif', 'personal', 'difficulty'], axis = 1)\n",
        "\n",
        "all_except_verifdifficult_test_df = test_df_refined.copy()\n",
        "all_except_verifdifficult_test_df = all_except_verifdifficult_test_df.fillna('')\n",
        "all_except_verifdifficult_test_df['label'] = all_except_verifdifficult_test_df['verif'] + all_except_verifdifficult_test_df['difficulty']\n",
        "all_except_verifdifficult_test_df = all_except_verifdifficult_test_df.drop(['verif', 'personal', 'difficulty'], axis = 1)\n",
        "\n",
        "X_train_all_except_verifdifficult = all_except_verifdifficult_train_df.iloc[:,all_except_verifdifficult_train_df.columns != 'label']\n",
        "X_test_all_except_verifdifficult = all_except_verifdifficult_test_df.iloc[:,all_except_verifdifficult_test_df.columns != 'label']\n",
        "y_train_all_except_verifdifficult = all_except_verifdifficult_train_df.label\n",
        "y_test_all_except_verifdifficult = all_except_verifdifficult_test_df.label\n",
        "\n",
        "# WITHOUT VERIFEASY\n",
        "all_except_verifeasy_train_df = train_df_refined.copy()\n",
        "all_except_verifeasy_train_df = all_except_verifeasy_train_df.fillna('')\n",
        "all_except_verifeasy_train_df['label'] = all_except_verifeasy_train_df['verif'] + all_except_verifeasy_train_df['difficulty']\n",
        "all_except_verifeasy_train_df = all_except_verifeasy_train_df[all_except_verifeasy_train_df['label'] != 'VerifEasy']\n",
        "all_except_verifeasy_train_df = all_except_verifeasy_train_df.drop(['verif', 'personal', 'difficulty'], axis = 1)\n",
        "\n",
        "all_except_verifeasy_test_df = test_df_refined.copy()\n",
        "all_except_verifeasy_test_df = all_except_verifeasy_test_df.fillna('')\n",
        "all_except_verifeasy_test_df['label'] = all_except_verifeasy_test_df['verif'] + all_except_verifeasy_test_df['difficulty']\n",
        "all_except_verifeasy_test_df = all_except_verifeasy_test_df.drop(['verif', 'personal', 'difficulty'], axis = 1)\n",
        "\n",
        "X_train_all_except_verifeasy = all_except_verifeasy_train_df.iloc[:,all_except_verifeasy_train_df.columns != 'label']\n",
        "X_test_all_except_verifeasy = all_except_verifeasy_test_df.iloc[:,all_except_verifeasy_test_df.columns != 'label']\n",
        "y_train_all_except_verifeasy = all_except_verifeasy_train_df.label\n",
        "y_test_all_except_verifeasy = all_except_verifeasy_test_df.label\n"
      ]
    },
    {
      "cell_type": "code",
      "source": [
        "test_df_refined.verif.value_counts().sum()"
      ],
      "metadata": {
        "colab": {
          "base_uri": "https://localhost:8080/"
        },
        "id": "yyFjN8gqKLFp",
        "outputId": "c73ee46e-a9bd-4d83-fc11-83a482a6d5fc"
      },
      "execution_count": null,
      "outputs": [
        {
          "output_type": "execute_result",
          "data": {
            "text/plain": [
              "1962"
            ]
          },
          "metadata": {},
          "execution_count": 17
        }
      ]
    },
    {
      "cell_type": "code",
      "source": [
        "train_df_refined.verif.value_counts()"
      ],
      "metadata": {
        "colab": {
          "base_uri": "https://localhost:8080/"
        },
        "id": "ULlKzqOXHzbZ",
        "outputId": "872aa2f0-e0ff-4537-e4e7-f2c9ddbe3cd7"
      },
      "execution_count": null,
      "outputs": [
        {
          "output_type": "execute_result",
          "data": {
            "text/plain": [
              "UnVerif    4914\n",
              "Verif      2200\n",
              "NonArg     1050\n",
              "Name: verif, dtype: int64"
            ]
          },
          "metadata": {},
          "execution_count": 12
        }
      ]
    },
    {
      "cell_type": "code",
      "execution_count": null,
      "metadata": {
        "colab": {
          "base_uri": "https://localhost:8080/"
        },
        "id": "SGrr7jzfiO20",
        "outputId": "020996d6-a9b4-4358-abe2-586f1add4258"
      },
      "outputs": [
        {
          "data": {
            "text/plain": [
              "UnVerif    1041\n",
              "Verif       638\n",
              "NonArg      283\n",
              "Name: verif, dtype: int64"
            ]
          },
          "execution_count": 18,
          "metadata": {},
          "output_type": "execute_result"
        }
      ],
      "source": [
        "test_df_refined.verif.value_counts()"
      ]
    },
    {
      "cell_type": "code",
      "execution_count": null,
      "metadata": {
        "colab": {
          "base_uri": "https://localhost:8080/"
        },
        "id": "VEFJnLS8jLrO",
        "outputId": "419dd53c-3120-4bd2-b733-27aca49bb2dc"
      },
      "outputs": [
        {
          "data": {
            "text/plain": [
              "NonPers    1825\n",
              "Pers        374\n",
              "Name: personal, dtype: int64"
            ]
          },
          "execution_count": 19,
          "metadata": {},
          "output_type": "execute_result"
        }
      ],
      "source": [
        "verif_only_train_df.personal.value_counts()"
      ]
    },
    {
      "cell_type": "code",
      "execution_count": null,
      "metadata": {
        "colab": {
          "base_uri": "https://localhost:8080/"
        },
        "id": "e8FunDe5jVhe",
        "outputId": "59e8cfe4-b784-48b7-f1dd-c04a65ea381a"
      },
      "outputs": [
        {
          "data": {
            "text/plain": [
              "NonPers    517\n",
              "Pers       121\n",
              "Name: personal, dtype: int64"
            ]
          },
          "execution_count": 20,
          "metadata": {},
          "output_type": "execute_result"
        }
      ],
      "source": [
        "verif_only_test_df.personal.value_counts()"
      ]
    },
    {
      "cell_type": "code",
      "execution_count": null,
      "metadata": {
        "colab": {
          "base_uri": "https://localhost:8080/"
        },
        "id": "9nY0UKDeZyMd",
        "outputId": "6eac566d-19e3-4a40-909f-80ce5dcbfadf"
      },
      "outputs": [
        {
          "data": {
            "text/plain": [
              "UnVerif      4914\n",
              "VerifEasy     982\n",
              "Name: label, dtype: int64"
            ]
          },
          "execution_count": 14,
          "metadata": {},
          "output_type": "execute_result"
        }
      ],
      "source": [
        "verifeasy_unverif_train_df.label.value_counts()"
      ]
    },
    {
      "cell_type": "code",
      "execution_count": null,
      "metadata": {
        "colab": {
          "base_uri": "https://localhost:8080/"
        },
        "id": "kc7dWb9ibdn5",
        "outputId": "d40c2df5-2813-42d0-b621-b298d75e3983"
      },
      "outputs": [
        {
          "data": {
            "text/plain": [
              "UnVerif      1041\n",
              "VerifEasy     284\n",
              "Name: label, dtype: int64"
            ]
          },
          "execution_count": 15,
          "metadata": {},
          "output_type": "execute_result"
        }
      ],
      "source": [
        "verifeasy_unverif_test_df.label.value_counts()"
      ]
    },
    {
      "cell_type": "code",
      "execution_count": null,
      "metadata": {
        "colab": {
          "base_uri": "https://localhost:8080/"
        },
        "id": "JVpVFF_jbi8b",
        "outputId": "f36b2d68-9e40-4e8c-e1b2-fc51222df189"
      },
      "outputs": [
        {
          "data": {
            "text/plain": [
              "UnVerif           4914\n",
              "VerifDifficult    1218\n",
              "Name: label, dtype: int64"
            ]
          },
          "execution_count": 16,
          "metadata": {},
          "output_type": "execute_result"
        }
      ],
      "source": [
        "verifdifficult_unverif_train_df.label.value_counts()"
      ]
    },
    {
      "cell_type": "code",
      "execution_count": null,
      "metadata": {
        "colab": {
          "base_uri": "https://localhost:8080/"
        },
        "id": "fiPwko4NbmLH",
        "outputId": "fe4c6d89-515d-47a7-d752-e9ba80cce1a8"
      },
      "outputs": [
        {
          "data": {
            "text/plain": [
              "UnVerif           1041\n",
              "VerifDifficult     354\n",
              "Name: label, dtype: int64"
            ]
          },
          "execution_count": 17,
          "metadata": {},
          "output_type": "execute_result"
        }
      ],
      "source": [
        "verifdifficult_unverif_test_df.label.value_counts()"
      ]
    },
    {
      "cell_type": "code",
      "execution_count": null,
      "metadata": {
        "colab": {
          "base_uri": "https://localhost:8080/"
        },
        "id": "Gf0OfMBQL2uz",
        "outputId": "c5d2dc63-6738-44ff-e6a8-0ae7e1637701"
      },
      "outputs": [
        {
          "data": {
            "text/plain": [
              "UnVerif      4914\n",
              "NonArg       1050\n",
              "VerifEasy     982\n",
              "Name: label, dtype: int64"
            ]
          },
          "execution_count": 47,
          "metadata": {},
          "output_type": "execute_result"
        }
      ],
      "source": [
        "all_except_verifdifficult_train_df.label.value_counts()"
      ]
    },
    {
      "cell_type": "code",
      "execution_count": null,
      "metadata": {
        "colab": {
          "base_uri": "https://localhost:8080/"
        },
        "id": "Iwv8pzRrL2nt",
        "outputId": "d7b535d7-9fcd-42e3-bfec-b26687c616e3"
      },
      "outputs": [
        {
          "data": {
            "text/plain": [
              "UnVerif           1041\n",
              "VerifDifficult     354\n",
              "VerifEasy          284\n",
              "NonArg             283\n",
              "Name: label, dtype: int64"
            ]
          },
          "execution_count": 48,
          "metadata": {},
          "output_type": "execute_result"
        }
      ],
      "source": [
        "all_except_verifdifficult_test_df.label.value_counts()"
      ]
    },
    {
      "cell_type": "code",
      "execution_count": null,
      "metadata": {
        "colab": {
          "base_uri": "https://localhost:8080/"
        },
        "id": "89Ld-ycvL2fK",
        "outputId": "f0b03c38-adc2-4dfd-f44b-bb49328c35e0"
      },
      "outputs": [
        {
          "data": {
            "text/plain": [
              "UnVerif           4914\n",
              "VerifDifficult    1218\n",
              "NonArg            1050\n",
              "Name: label, dtype: int64"
            ]
          },
          "execution_count": 49,
          "metadata": {},
          "output_type": "execute_result"
        }
      ],
      "source": [
        "all_except_verifeasy_train_df.label.value_counts()"
      ]
    },
    {
      "cell_type": "code",
      "execution_count": null,
      "metadata": {
        "colab": {
          "base_uri": "https://localhost:8080/"
        },
        "id": "r7djmgTpL2UQ",
        "outputId": "30ea1974-94df-4577-e7b3-e9b6d71276c9"
      },
      "outputs": [
        {
          "data": {
            "text/plain": [
              "UnVerif           1041\n",
              "VerifDifficult     354\n",
              "VerifEasy          284\n",
              "NonArg             283\n",
              "Name: label, dtype: int64"
            ]
          },
          "execution_count": 50,
          "metadata": {},
          "output_type": "execute_result"
        }
      ],
      "source": [
        "all_except_verifeasy_test_df.label.value_counts()"
      ]
    },
    {
      "cell_type": "code",
      "execution_count": 12,
      "metadata": {
        "id": "T9W45QmNXWKl"
      },
      "outputs": [],
      "source": [
        "# These classes are needed to make the pipeline work, uses sklearn methods\n",
        "class TextSelector(BaseEstimator, TransformerMixin):\n",
        "    def __init__(self, field):\n",
        "        self.field = field\n",
        "    def fit(self, X, y=None):\n",
        "        return self\n",
        "    def transform(self, X):\n",
        "        return X[self.field]\n",
        "\n",
        "class NumberSelector(BaseEstimator, TransformerMixin):\n",
        "    def __init__(self, field):\n",
        "        self.field = field\n",
        "    def fit(self, X, y=None):\n",
        "        return self\n",
        "    def transform(self, X):\n",
        "        return X[[self.field]]"
      ]
    },
    {
      "cell_type": "code",
      "source": [
        "# Dummy baseline for VerifDifficult/UnVerif\n",
        "dummy_clf = DummyClassifier(strategy=\"most_frequent\")\n",
        "dummy_clf.fit(X_train_all_except_verifeasy, y_train_all_except_verifeasy)\n",
        "y_pred_dummy_all_except_verifeasy = dummy_clf.predict(X_test_all_except_verifeasy)"
      ],
      "metadata": {
        "id": "uS8auk9HlpWp"
      },
      "execution_count": null,
      "outputs": []
    },
    {
      "cell_type": "code",
      "execution_count": null,
      "metadata": {
        "id": "PyUu42qCJanD"
      },
      "outputs": [],
      "source": [
        "# Pipeline for baseline model, which uses BOW/unigram for VerifDifficult/UnVerif BUT USING THE ORIGINAL TEST SET\n",
        "baseline_classifier = Pipeline([\n",
        "                             ('features', Pipeline([\n",
        "                                  ('colext', TextSelector('sentence')),\n",
        "                                  ('unigram', CountVectorizer(analyzer='word', token_pattern=r'\\b\\w+\\b', max_features=5000))\n",
        "                                ])),\n",
        "                             ('clf', svm.SVC(kernel='linear', C=1))   \n",
        "                              ])\n",
        "\n",
        "baseline = baseline_classifier.fit(X_train_all_except_verifeasy, y_train_all_except_verifeasy)\n",
        "y_pred_all_except_verifeasy = baseline.predict(X_test_all_except_verifeasy)"
      ]
    },
    {
      "cell_type": "code",
      "source": [
        "# Pipeline for unigram + bigram + POS tags + wordcount + tfidf +tense for VerifDifficult/UnVerif BUT USING THE ORIGINAL TEST SET\n",
        "classifier = Pipeline([\n",
        "                             ('features', FeatureUnion([\n",
        "                                  ('word-bigram', Pipeline([\n",
        "                                        ('colext', TextSelector('sentence')),\n",
        "                                        ('bigram', CountVectorizer(analyzer='word', ngram_range=(1, 2), token_pattern=r'\\b\\w+\\b', max_features=5000))                \n",
        "                                  ])),\n",
        "                                  ('POS-tags', Pipeline([\n",
        "                                        ('colext', TextSelector('POS_tags')),\n",
        "                                        ('POS-tag', CountVectorizer(analyzer='word', token_pattern=r'\\b\\w+\\b', max_features=5000))                               \n",
        "                                ])),\n",
        "                                  ('POV', Pipeline([\n",
        "                                        ('colext', TextSelector('pov')),\n",
        "                                        ('POV-tag', CountVectorizer(analyzer='word', token_pattern=r'\\b\\w+\\b', max_features=5000))                               \n",
        "                                ])),\n",
        "                                  ('tense', Pipeline([\n",
        "                                        ('colext', TextSelector('tense')),\n",
        "                                        ('tense', CountVectorizer(analyzer='word', token_pattern=r'\\b\\w+\\b', max_features=5000))                               \n",
        "                                ])),\n",
        "                                  ('words', Pipeline([\n",
        "                                        ('wordCount', NumberSelector('word_count')),\n",
        "                                        ('wscalar', StandardScaler())                               \n",
        "                                ])),\n",
        "                                  ('tfidf', Pipeline([\n",
        "                                        ('colext', TextSelector('sentence')),\n",
        "                                        ('tfidf', TfidfVectorizer(analyzer='word', token_pattern=r'\\b\\w+\\b', max_features=5000))\n",
        "                                ])),\n",
        "                              ])),\n",
        "                             ('clf', svm.SVC(kernel='linear', C=0.1))   \n",
        "                             ])\n",
        "                          \n",
        "\n",
        "classifier = classifier.fit(X_train_all_except_verifeasy, y_train_all_except_verifeasy)\n",
        "y_pred_all_except_verifeasy = classifier.predict(X_test_all_except_verifeasy)"
      ],
      "metadata": {
        "id": "7hFKiC4qwzLA"
      },
      "execution_count": null,
      "outputs": []
    },
    {
      "cell_type": "code",
      "source": [
        "# Dummy baseline for VerifEasy/UnVerif BUT USING ORIGINAL TEST SET\n",
        "dummy_clf = DummyClassifier(strategy=\"most_frequent\")\n",
        "dummy_clf.fit(X_train_all_except_verifdifficult, y_train_all_except_verifdifficult)\n",
        "y_pred_dummy_all_except_verifdifficult = dummy_clf.predict(X_test_all_except_verifdifficult)"
      ],
      "metadata": {
        "id": "ORX1Yh_slOQK"
      },
      "execution_count": null,
      "outputs": []
    },
    {
      "cell_type": "code",
      "execution_count": null,
      "metadata": {
        "id": "-MxvJBIHgDh6"
      },
      "outputs": [],
      "source": [
        "# Pipeline for baseline model, which uses BOW/unigram for VerifEasy/UnVerif BUT USING THE ORIGINAL TEST SET\n",
        "baseline_classifier = Pipeline([\n",
        "                             ('features', Pipeline([\n",
        "                                  ('colext', TextSelector('sentence')),\n",
        "                                  ('unigram', CountVectorizer(analyzer='word', token_pattern=r'\\b\\w+\\b', max_features=5000))\n",
        "                                ])),\n",
        "                             ('clf', svm.SVC(kernel='linear', C=1))   \n",
        "                              ])\n",
        "\n",
        "baseline = baseline_classifier.fit(X_train_all_except_verifdifficult, y_train_all_except_verifdifficult)\n",
        "y_pred_all_except_verifdifficult = baseline.predict(X_test_all_except_verifdifficult)"
      ]
    },
    {
      "cell_type": "code",
      "source": [
        "# Pipeline for unigram + bigram + POS tags + wordcount + tfidf +tense for VerifEasy/UnVerif BUT USING THE ORIGINAL TEST SET\n",
        "classifier = Pipeline([\n",
        "                             ('features', FeatureUnion([\n",
        "                                  ('word-bigram', Pipeline([\n",
        "                                        ('colext', TextSelector('sentence')),\n",
        "                                        ('bigram', CountVectorizer(analyzer='word', ngram_range=(1, 2), token_pattern=r'\\b\\w+\\b', max_features=5000))                \n",
        "                                  ])),\n",
        "                                  ('POS-tags', Pipeline([\n",
        "                                        ('colext', TextSelector('POS_tags')),\n",
        "                                        ('POS-tag', CountVectorizer(analyzer='word', token_pattern=r'\\b\\w+\\b', max_features=5000))                               \n",
        "                                ])),\n",
        "                                  ('POV', Pipeline([\n",
        "                                        ('colext', TextSelector('pov')),\n",
        "                                        ('POV-tag', CountVectorizer(analyzer='word', token_pattern=r'\\b\\w+\\b', max_features=5000))                               \n",
        "                                ])),\n",
        "                                  ('tense', Pipeline([\n",
        "                                        ('colext', TextSelector('tense')),\n",
        "                                        ('tense', CountVectorizer(analyzer='word', token_pattern=r'\\b\\w+\\b', max_features=5000))                               \n",
        "                                ])),\n",
        "                                  ('words', Pipeline([\n",
        "                                        ('wordCount', NumberSelector('word_count')),\n",
        "                                        ('wscalar', StandardScaler())                               \n",
        "                                ])),\n",
        "                                  ('tfidf', Pipeline([\n",
        "                                        ('colext', TextSelector('sentence')),\n",
        "                                        ('tfidf', TfidfVectorizer(analyzer='word', token_pattern=r'\\b\\w+\\b', max_features=5000))\n",
        "                                ])),\n",
        "                              ])),\n",
        "                             ('clf', svm.SVC(kernel='linear', C=0.1))   \n",
        "                             ])\n",
        "                          \n",
        "\n",
        "classifier = classifier.fit(X_train_all_except_verifdifficult, y_train_all_except_verifdifficult)\n",
        "y_pred_all_except_verifdifficult = classifier.predict(X_test_all_except_verifdifficult)"
      ],
      "metadata": {
        "id": "824odnZew-in"
      },
      "execution_count": null,
      "outputs": []
    },
    {
      "cell_type": "code",
      "source": [
        "# Dummy baseline for VerifEasy/UnVerif\n",
        "dummy_clf = DummyClassifier(strategy=\"most_frequent\")\n",
        "dummy_clf.fit(X_train_difficult_unverif, y_train_difficult_unverif)\n",
        "y_pred_dummy_difficult_unverif = dummy_clf.predict(X_test_difficult_unverif)"
      ],
      "metadata": {
        "id": "B-rGDQ0TkwIc"
      },
      "execution_count": null,
      "outputs": []
    },
    {
      "cell_type": "code",
      "execution_count": null,
      "metadata": {
        "id": "Dja4-G5tdcTx"
      },
      "outputs": [],
      "source": [
        "# Pipeline for baseline model, which uses BOW/unigram for VerifDifficult/UnVerif\n",
        "baseline_classifier = Pipeline([\n",
        "                             ('features', Pipeline([\n",
        "                                  ('colext', TextSelector('sentence')),\n",
        "                                  ('unigram', CountVectorizer(analyzer='word', token_pattern=r'\\b\\w+\\b', max_features=5000))\n",
        "                                ])),\n",
        "                             ('clf', svm.SVC(kernel='linear'))   \n",
        "                              ])\n",
        "\n",
        "baseline = baseline_classifier.fit(X_train_difficult_unverif, y_train_difficult_unverif)\n",
        "y_pred_difficult_unverif = baseline.predict(X_test_difficult_unverif)"
      ]
    },
    {
      "cell_type": "code",
      "execution_count": null,
      "metadata": {
        "id": "InKojRQneHyp"
      },
      "outputs": [],
      "source": [
        "# Pipeline for everything for VerifDifficult/UnVerif\n",
        "classifier = Pipeline([\n",
        "                             ('features', FeatureUnion([\n",
        "                                  ('word-bigram', Pipeline([\n",
        "                                        ('colext', TextSelector('sentence')),\n",
        "                                        ('bigram', CountVectorizer(analyzer='word', ngram_range=(1, 2), token_pattern=r'\\b\\w+\\b', max_features=5000))                \n",
        "                                  ])),\n",
        "                                  ('POS-tags', Pipeline([\n",
        "                                        ('colext', TextSelector('POS_tags')),\n",
        "                                        ('POS-tag', CountVectorizer(analyzer='word', token_pattern=r'\\b\\w+\\b', max_features=5000))                               \n",
        "                                ])),\n",
        "                                  ('POV', Pipeline([\n",
        "                                        ('colext', TextSelector('pov')),\n",
        "                                        ('POV-tag', CountVectorizer(analyzer='word', token_pattern=r'\\b\\w+\\b', max_features=5000))                               \n",
        "                                ])),\n",
        "                                  ('tense', Pipeline([\n",
        "                                        ('colext', TextSelector('tense')),\n",
        "                                        ('tense', CountVectorizer(analyzer='word', token_pattern=r'\\b\\w+\\b', max_features=5000))                               \n",
        "                                ])),\n",
        "                                  ('words', Pipeline([\n",
        "                                        ('wordCount', NumberSelector('word_count')),\n",
        "                                        ('wscalar', StandardScaler())                               \n",
        "                                ])),\n",
        "                                  ('tfidf', Pipeline([\n",
        "                                        ('colext', TextSelector('sentence')),\n",
        "                                        ('tfidf', TfidfVectorizer(analyzer='word', token_pattern=r'\\b\\w+\\b', max_features=5000))\n",
        "                                ])),\n",
        "                              ])),\n",
        "                             ('clf', svm.SVC(kernel='linear'))   \n",
        "                             ])\n",
        "                          \n",
        "\n",
        "classifier = classifier.fit(X_train_difficult_unverif, y_train_difficult_unverif)\n",
        "y_pred_difficult_unverif = classifier.predict(X_test_difficult_unverif)"
      ]
    },
    {
      "cell_type": "code",
      "source": [
        "# Dummy baseline for VerifEasy/UnVerif\n",
        "dummy_clf = DummyClassifier(strategy=\"most_frequent\")\n",
        "dummy_clf.fit(X_train_easy_unverif, y_train_easy_unverif)\n",
        "y_pred_dummy_easy_unverif = dummy_clf.predict(X_test_easy_unverif)"
      ],
      "metadata": {
        "id": "PEstEzs8kJpW"
      },
      "execution_count": null,
      "outputs": []
    },
    {
      "cell_type": "code",
      "execution_count": null,
      "metadata": {
        "id": "MhaGk-ZPZVt9"
      },
      "outputs": [],
      "source": [
        "# Pipeline for baseline model, which uses BOW/unigram for VerifEasy/UnVerif\n",
        "baseline_classifier = Pipeline([\n",
        "                             ('features', Pipeline([\n",
        "                                  ('colext', TextSelector('sentence')),\n",
        "                                  ('unigram', CountVectorizer(analyzer='word', token_pattern=r'\\b\\w+\\b', max_features=5000))\n",
        "                                ])),\n",
        "                             ('clf', svm.SVC(kernel='linear'))   \n",
        "                              ])\n",
        "\n",
        "baseline = baseline_classifier.fit(X_train_easy_unverif, y_train_easy_unverif)\n",
        "y_pred_easy_unverif = baseline.predict(X_test_easy_unverif)"
      ]
    },
    {
      "cell_type": "code",
      "execution_count": null,
      "metadata": {
        "id": "xVJj1SKEZ-v9"
      },
      "outputs": [],
      "source": [
        "# Pipeline for everything for VerifEasy/UnVerif\n",
        "classifier = Pipeline([\n",
        "                             ('features', FeatureUnion([\n",
        "                                  ('word-bigram', Pipeline([\n",
        "                                        ('colext', TextSelector('sentence')),\n",
        "                                        ('bigram', CountVectorizer(analyzer='word', ngram_range=(1, 2), token_pattern=r'\\b\\w+\\b', max_features=5000))                \n",
        "                                  ])),\n",
        "                                  ('POS-tags', Pipeline([\n",
        "                                        ('colext', TextSelector('POS_tags')),\n",
        "                                        ('POS-tag', CountVectorizer(analyzer='word', token_pattern=r'\\b\\w+\\b', max_features=5000))                               \n",
        "                                ])),\n",
        "                                  ('POV', Pipeline([\n",
        "                                        ('colext', TextSelector('pov')),\n",
        "                                        ('POV-tag', CountVectorizer(analyzer='word', token_pattern=r'\\b\\w+\\b', max_features=5000))                               \n",
        "                                ])),\n",
        "                                  ('tense', Pipeline([\n",
        "                                        ('colext', TextSelector('tense')),\n",
        "                                        ('tense', CountVectorizer(analyzer='word', token_pattern=r'\\b\\w+\\b', max_features=5000))                               \n",
        "                                ])),\n",
        "                                  ('words', Pipeline([\n",
        "                                        ('wordCount', NumberSelector('word_count')),\n",
        "                                        ('wscalar', StandardScaler())                               \n",
        "                                ])),\n",
        "                                  ('tfidf', Pipeline([\n",
        "                                        ('colext', TextSelector('sentence')),\n",
        "                                        ('tfidf', TfidfVectorizer(analyzer='word', token_pattern=r'\\b\\w+\\b', max_features=5000))\n",
        "                                ])),\n",
        "                              ])),\n",
        "                             ('clf', svm.SVC(kernel='linear'))   \n",
        "                             ])\n",
        "                          \n",
        "\n",
        "classifier = classifier.fit(X_train_easy_unverif, y_train_easy_unverif)\n",
        "y_pred_easy_unverif = classifier.predict(X_test_easy_unverif)"
      ]
    },
    {
      "cell_type": "code",
      "source": [
        "# Dummy baseline for Personal/NonPersonal\n",
        "dummy_clf = DummyClassifier(strategy=\"most_frequent\")\n",
        "dummy_clf.fit(X_train_verif_pers, y_train_verif_pers)\n",
        "y_pred_dummy_verif_pers = dummy_clf.predict(X_test_verif_pers)"
      ],
      "metadata": {
        "id": "I1zbC5cojtIF"
      },
      "execution_count": null,
      "outputs": []
    },
    {
      "cell_type": "code",
      "execution_count": null,
      "metadata": {
        "id": "EkT07SQuF3Mv"
      },
      "outputs": [],
      "source": [
        "# Pipeline for baseline model, which uses BOW/unigram for personal/nonpersonal\n",
        "baseline_classifier = Pipeline([\n",
        "                             ('features', Pipeline([\n",
        "                                  ('colext', TextSelector('sentence')),\n",
        "                                  ('unigram', CountVectorizer(analyzer='word', token_pattern=r'\\b\\w+\\b', max_features=5000))\n",
        "                                ])),\n",
        "                             ('clf', svm.SVC(kernel='linear', C=0.1))   \n",
        "                              ])\n",
        "\n",
        "baseline = baseline_classifier.fit(X_train_verif_pers, y_train_verif_pers)\n",
        "y_pred_verif_pers = baseline.predict(X_test_verif_pers)"
      ]
    },
    {
      "cell_type": "code",
      "execution_count": null,
      "metadata": {
        "id": "YOORS74mJ13S"
      },
      "outputs": [],
      "source": [
        "# Pipeline for everything for personal/nonpersonal\n",
        "classifier = Pipeline([\n",
        "                             ('features', FeatureUnion([\n",
        "                                  ('word-bigram', Pipeline([\n",
        "                                        ('colext', TextSelector('sentence')),\n",
        "                                        ('bigram', CountVectorizer(analyzer='word', ngram_range=(1, 2), token_pattern=r'\\b\\w+\\b', max_features=5000))                \n",
        "                                  ])),\n",
        "                                  ('POS-tags', Pipeline([\n",
        "                                        ('colext', TextSelector('POS_tags')),\n",
        "                                        ('POS-tag', CountVectorizer(analyzer='word', token_pattern=r'\\b\\w+\\b', max_features=5000))                               \n",
        "                                ])),\n",
        "                                  ('POV', Pipeline([\n",
        "                                        ('colext', TextSelector('pov')),\n",
        "                                        ('POV-tag', CountVectorizer(analyzer='word', token_pattern=r'\\b\\w+\\b', max_features=5000))                               \n",
        "                                ])),\n",
        "                                  ('tense', Pipeline([\n",
        "                                        ('colext', TextSelector('tense')),\n",
        "                                        ('tense', CountVectorizer(analyzer='word', token_pattern=r'\\b\\w+\\b', max_features=5000))                               \n",
        "                                ])),\n",
        "                                  ('words', Pipeline([\n",
        "                                        ('wordCount', NumberSelector('word_count')),\n",
        "                                        ('wscalar', StandardScaler())                               \n",
        "                                ])),\n",
        "                                  ('tfidf', Pipeline([\n",
        "                                        ('colext', TextSelector('sentence')),\n",
        "                                        ('tfidf', TfidfVectorizer(analyzer='word', token_pattern=r'\\b\\w+\\b', max_features=5000))\n",
        "                                ])),\n",
        "                              ])),\n",
        "                             ('clf', svm.SVC(kernel='linear', C=0.1))   \n",
        "                             ])\n",
        "                          \n",
        "\n",
        "classifier = classifier.fit(X_train_verif_pers, y_train_verif_pers)\n",
        "y_pred_verif_pers = classifier.predict(X_test_verif_pers)"
      ]
    },
    {
      "cell_type": "code",
      "source": [
        "# Dummy baseline for three main labels (NonArg, UnVerif, Verif)\n",
        "dummy_clf = DummyClassifier(strategy=\"most_frequent\")\n",
        "dummy_clf.fit(X_train, y_train)\n",
        "y_pred_dummy = dummy_clf.predict(X_test)"
      ],
      "metadata": {
        "id": "vzAvOQODd_GN"
      },
      "execution_count": null,
      "outputs": []
    },
    {
      "cell_type": "code",
      "execution_count": null,
      "metadata": {
        "id": "oEe50d2qWxoz"
      },
      "outputs": [],
      "source": [
        "# Pipeline for baseline model, which uses BOW/unigram\n",
        "baseline_classifier = Pipeline([\n",
        "                             ('features', Pipeline([\n",
        "                                  ('colext', TextSelector('sentence')),\n",
        "                                  ('unigram', CountVectorizer(analyzer='word', token_pattern=r'\\b\\w+\\b', max_features=5000))\n",
        "                                ])),\n",
        "                             ('clf', svm.SVC(kernel='linear', C=1))   \n",
        "                              ])\n",
        "\n",
        "baseline = baseline_classifier.fit(X_train, y_train)\n",
        "y_pred = baseline.predict(X_test)"
      ]
    },
    {
      "cell_type": "code",
      "execution_count": 13,
      "metadata": {
        "id": "LP-fhhQrvjIw"
      },
      "outputs": [],
      "source": [
        "# Pipeline for unigram + bigram + POS tags + wordcount + tfidf +tense\n",
        "classifier = Pipeline([\n",
        "                             ('features', FeatureUnion([\n",
        "                                  ('word-bigram', Pipeline([\n",
        "                                        ('colext', TextSelector('sentence')),\n",
        "                                        ('bigram', CountVectorizer(analyzer='word', ngram_range=(1, 2), token_pattern=r'\\b\\w+\\b', max_features=5000))                \n",
        "                                  ])),\n",
        "                                  ('POS-tags', Pipeline([\n",
        "                                        ('colext', TextSelector('POS_tags')),\n",
        "                                        ('POS-tag', CountVectorizer(analyzer='word', token_pattern=r'\\b\\w+\\b', max_features=5000))                               \n",
        "                                ])),\n",
        "                                  ('POV', Pipeline([\n",
        "                                        ('colext', TextSelector('pov')),\n",
        "                                        ('POV-tag', CountVectorizer(analyzer='word', token_pattern=r'\\b\\w+\\b', max_features=5000))                               \n",
        "                                ])),\n",
        "                                  ('tense', Pipeline([\n",
        "                                        ('colext', TextSelector('tense')),\n",
        "                                        ('tense', CountVectorizer(analyzer='word', token_pattern=r'\\b\\w+\\b', max_features=5000))                               \n",
        "                                ])),\n",
        "                                  ('words', Pipeline([\n",
        "                                        ('wordCount', NumberSelector('word_count')),\n",
        "                                        ('wscalar', StandardScaler())                               \n",
        "                                ])),\n",
        "                                  ('tfidf', Pipeline([\n",
        "                                        ('colext', TextSelector('sentence')),\n",
        "                                        ('tfidf', TfidfVectorizer(analyzer='word', token_pattern=r'\\b\\w+\\b', max_features=5000))\n",
        "                                ])),\n",
        "                              ])),\n",
        "                             ('clf', svm.SVC(kernel='linear', C=0.1))   \n",
        "                             ])\n",
        "                          \n",
        "\n",
        "classifier = classifier.fit(X_train, y_train)\n",
        "y_pred = classifier.predict(X_test)"
      ]
    },
    {
      "cell_type": "code",
      "source": [
        "# C/GAMMA VALUE OPTIMIZATION\n",
        "#Create a dictionary of possible parameters\n",
        "params_grid = {'clf__C': [0.001, 0.01, 0.1, 1, 10, 100]\n",
        "          # 'clf__gamma': [0.0001, 0.001, 0.01, 0.1],\n",
        "          # 'clf__kernel':['linear','rbf'] \n",
        "          }\n",
        "\n",
        "# #Create the GridSearchCV object\n",
        "grid_clf = GridSearchCV(estimator=classifier, param_grid=params_grid, scoring='f1_macro')\n",
        "\n",
        "# #Fit the data with the best possible parameters\n",
        "grid_clf.fit(X_train_all_except_verifeasy, y_train_all_except_verifeasy)\n",
        "\n",
        "# #Print the best estimator with it's parameters\n",
        "grid_clf.best_params_"
      ],
      "metadata": {
        "colab": {
          "base_uri": "https://localhost:8080/"
        },
        "id": "7bH0F_QEePeo",
        "outputId": "01e74122-b154-4a3b-c6a4-c27c2e20733b"
      },
      "execution_count": null,
      "outputs": [
        {
          "output_type": "execute_result",
          "data": {
            "text/plain": [
              "{'clf__C': 0.1}"
            ]
          },
          "metadata": {},
          "execution_count": 94
        }
      ]
    },
    {
      "cell_type": "code",
      "execution_count": 14,
      "metadata": {
        "id": "B-mq85pySmzI"
      },
      "outputs": [],
      "source": [
        "def evaluate(true_labels, predicted_labels, model, label_names):\n",
        "  '''This function calculates precision, recall, f1-score and macro average of those scores'''\n",
        "  # Create confusion matrix\n",
        "  \n",
        "  cm = confusion_matrix(true_labels, predicted_labels, labels=model.classes_)\n",
        "  disp = ConfusionMatrixDisplay(confusion_matrix=cm, display_labels=model.classes_)\n",
        "  disp.plot()\n",
        "  \n",
        "  # Calculate true/false positives/negatives\n",
        "  true_positive = np.diag(cm)\n",
        "  false_positive = np.sum(cm, axis=0) - true_positive\n",
        "  false_negative = np.sum(cm, axis=1) - true_positive\n",
        "  true_negative = cm.sum() - (false_positive + false_negative + true_positive)\n",
        "\n",
        "  # Calculate precision, recall and f1 score\n",
        "  precision_calculation = true_positive / (true_positive + false_positive)\n",
        "  recall_calculation = true_positive / (true_positive + false_negative)\n",
        "  f1_calculation = 2 * (precision_calculation * recall_calculation)/(precision_calculation + recall_calculation)\n",
        "\n",
        "  # Calculate accuracy\n",
        "  # accuracy = (sum(true_positive) + sum(true_negative)) / sum(true_positive + true_negative + false_positive + false_negative)\n",
        "  accuracy = accuracy_score(true_labels, predicted_labels)\n",
        "\n",
        "  precisions, recalls, f1_measures = precision_calculation, recall_calculation, f1_calculation\n",
        "  precision, recall, f1_measure = np.mean(precision_calculation),  np.mean(recall_calculation),  np.mean(f1_calculation)\n",
        "\n",
        "  print('***** Evaluation *****')\n",
        "  print(f'  Accuracy: {accuracy}')\n",
        "  print(\" |-----------|-----------|-----------|-----------|\")\n",
        "  print(\" |%-11s|%-11s|%-11s|%-11s|\" % (\"Class\", \"Precision\", \"Recall\", \"F1-measure\"))\n",
        "  print(\" |-----------|-----------|-----------|-----------|\")\n",
        "  for i, cls in enumerate(label_names):\n",
        "      print(\" |%-11s|%-11f|%-11f|%-11f|\" % (cls, precisions[i], recalls[i], f1_measures[i]))\n",
        "  print(\" |-----------|-----------|-----------|-----------|\")\n",
        "  print(\" |%-11s|%-11f|%-11f|%-11f|\" % ('MACRO-AVG', precision, recall, f1_measure))\n",
        "  print(\" |-----------|-----------|-----------|-----------|\")\n",
        "\n"
      ]
    },
    {
      "cell_type": "code",
      "execution_count": 15,
      "metadata": {
        "colab": {
          "base_uri": "https://localhost:8080/",
          "height": 476
        },
        "id": "aSYPv_zCTZlp",
        "outputId": "788929b3-f6f8-4454-f0cb-d5d8de7a70c8"
      },
      "outputs": [
        {
          "output_type": "stream",
          "name": "stdout",
          "text": [
            "***** Evaluation *****\n",
            "  Accuracy: 0.6437308868501529\n",
            " |-----------|-----------|-----------|-----------|\n",
            " |Class      |Precision  |Recall     |F1-measure |\n",
            " |-----------|-----------|-----------|-----------|\n",
            " |NonArg     |0.712707   |0.455830   |0.556034   |\n",
            " |UnVerif    |0.632050   |0.882805   |0.736673   |\n",
            " |Verif      |0.657492   |0.336991   |0.445596   |\n",
            " |-----------|-----------|-----------|-----------|\n",
            " |MACRO-AVG  |0.667416   |0.558542   |0.579435   |\n",
            " |-----------|-----------|-----------|-----------|\n"
          ]
        },
        {
          "output_type": "display_data",
          "data": {
            "text/plain": [
              "<Figure size 432x288 with 2 Axes>"
            ],
            "image/png": "[encoded data removed]"
          },
          "metadata": {
            "needs_background": "light"
          }
        }
      ],
      "source": [
        "# Call the evaluation\n",
        "evaluate(y_test, y_pred, classifier, ['NonArg', 'UnVerif', 'Verif'])"
      ]
    },
    {
      "cell_type": "code",
      "execution_count": null,
      "metadata": {
        "colab": {
          "base_uri": "https://localhost:8080/",
          "height": 462
        },
        "id": "4BNglMEXHxXY",
        "outputId": "237e1cc9-dca8-4aef-923b-ccf7cc43df54"
      },
      "outputs": [
        {
          "output_type": "stream",
          "name": "stdout",
          "text": [
            "***** Evaluation *****\n",
            "  Accuracy: 0.9341692789968652\n",
            " |-----------|-----------|-----------|-----------|\n",
            " |Class      |Precision  |Recall     |F1-measure |\n",
            " |-----------|-----------|-----------|-----------|\n",
            " |NonPers    |0.950664   |0.969052   |0.959770   |\n",
            " |Pers       |0.855856   |0.785124   |0.818966   |\n",
            " |-----------|-----------|-----------|-----------|\n",
            " |MACRO-AVG  |0.903260   |0.877088   |0.889368   |\n",
            " |-----------|-----------|-----------|-----------|\n"
          ]
        },
        {
          "output_type": "display_data",
          "data": {
            "text/plain": [
              "<Figure size 432x288 with 2 Axes>"
            ],
            "image/png": "[encoded data removed]"
          },
          "metadata": {
            "needs_background": "light"
          }
        }
      ],
      "source": [
        "# Evaluate for verifiable personal/nonpersonal\n",
        "evaluate(y_test_verif_pers, y_pred_verif_pers, classifier, ['NonPers', 'Pers'])"
      ]
    },
    {
      "cell_type": "code",
      "execution_count": null,
      "metadata": {
        "colab": {
          "base_uri": "https://localhost:8080/",
          "height": 493
        },
        "id": "ObF4ThSxQglt",
        "outputId": "bc3f87b2-3b08-4c1f-e3df-e85d4795b5d8"
      },
      "outputs": [
        {
          "output_type": "stream",
          "name": "stderr",
          "text": [
            "/usr/local/lib/python3.7/dist-packages/ipykernel_launcher.py:16: RuntimeWarning: invalid value encountered in true_divide\n",
            "  app.launch_new_instance()\n"
          ]
        },
        {
          "output_type": "stream",
          "name": "stdout",
          "text": [
            "***** Evaluation *****\n",
            "  Accuracy: 0.7856603773584906\n",
            " |-----------|-----------|-----------|-----------|\n",
            " |Class      |Precision  |Recall     |F1-measure |\n",
            " |-----------|-----------|-----------|-----------|\n",
            " |UnVerif    |0.785660   |1.000000   |0.879966   |\n",
            " |VerifEasy  |nan        |0.000000   |nan        |\n",
            " |-----------|-----------|-----------|-----------|\n",
            " |MACRO-AVG  |nan        |0.500000   |nan        |\n",
            " |-----------|-----------|-----------|-----------|\n"
          ]
        },
        {
          "output_type": "display_data",
          "data": {
            "text/plain": [
              "<Figure size 432x288 with 2 Axes>"
            ],
            "image/png": "[encoded data removed]"
          },
          "metadata": {
            "needs_background": "light"
          }
        }
      ],
      "source": [
        "evaluate(y_test_easy_unverif, y_pred_dummy_easy_unverif, dummy_clf, ['UnVerif', 'VerifEasy'])"
      ]
    },
    {
      "cell_type": "code",
      "execution_count": null,
      "metadata": {
        "colab": {
          "base_uri": "https://localhost:8080/",
          "height": 493
        },
        "id": "EtyUGs8ecwPd",
        "outputId": "5de75e81-e622-4b1d-96ca-0e489b7c5a79"
      },
      "outputs": [
        {
          "output_type": "stream",
          "name": "stdout",
          "text": [
            "***** Evaluation *****\n",
            "  Accuracy: 0.7462365591397849\n",
            " |-----------|-----------|-----------|-----------|\n",
            " |Class      |Precision  |Recall     |F1-measure |\n",
            " |-----------|-----------|-----------|-----------|\n",
            " |UnVerif    |0.746237   |1.000000   |0.854680   |\n",
            " |VerifDifficult|nan        |0.000000   |nan        |\n",
            " |-----------|-----------|-----------|-----------|\n",
            " |MACRO-AVG  |nan        |0.500000   |nan        |\n",
            " |-----------|-----------|-----------|-----------|\n"
          ]
        },
        {
          "output_type": "stream",
          "name": "stderr",
          "text": [
            "/usr/local/lib/python3.7/dist-packages/ipykernel_launcher.py:16: RuntimeWarning: invalid value encountered in true_divide\n",
            "  app.launch_new_instance()\n"
          ]
        },
        {
          "output_type": "display_data",
          "data": {
            "text/plain": [
              "<Figure size 432x288 with 2 Axes>"
            ],
            "image/png": "[encoded data removed]"
          },
          "metadata": {
            "needs_background": "light"
          }
        }
      ],
      "source": [
        "evaluate(y_test_difficult_unverif, y_pred_dummy_difficult_unverif, dummy_clf, ['UnVerif', 'VerifDifficult'])"
      ]
    },
    {
      "cell_type": "code",
      "execution_count": null,
      "metadata": {
        "colab": {
          "base_uri": "https://localhost:8080/",
          "height": 476
        },
        "id": "0IWCmPAegUrN",
        "outputId": "d163b2bd-b463-4cbe-9d37-c2053e71c423"
      },
      "outputs": [
        {
          "output_type": "stream",
          "name": "stdout",
          "text": [
            "***** Evaluation *****\n",
            "  Accuracy: 0.5902140672782875\n",
            " |-----------|-----------|-----------|-----------|\n",
            " |Class      |Precision  |Recall     |F1-measure |\n",
            " |-----------|-----------|-----------|-----------|\n",
            " |UnVerif    |0.775758   |0.452297   |0.571429   |\n",
            " |VerifEasy  |0.722590   |0.943324   |0.818333   |\n",
            " |NonArg     |0.571429   |0.169014   |0.260870   |\n",
            " |-----------|-----------|-----------|-----------|\n",
            " |MACRO-AVG  |0.689925   |0.521545   |0.550210   |\n",
            " |-----------|-----------|-----------|-----------|\n"
          ]
        },
        {
          "output_type": "display_data",
          "data": {
            "text/plain": [
              "<Figure size 432x288 with 2 Axes>"
            ],
            "image/png": "[encoded data removed]"
          },
          "metadata": {
            "needs_background": "light"
          }
        }
      ],
      "source": [
        "# VerifEasy/UnVerif, but with original test set\n",
        "evaluate(y_test_all_except_verifdifficult, y_pred_all_except_verifdifficult, classifier, ['UnVerif', 'VerifEasy', 'NonArg'])"
      ]
    },
    {
      "cell_type": "code",
      "execution_count": null,
      "metadata": {
        "colab": {
          "base_uri": "https://localhost:8080/",
          "height": 476
        },
        "id": "mbbks00ZJodz",
        "outputId": "a8a1930e-fe3d-4434-a662-7daf2cde038b"
      },
      "outputs": [
        {
          "output_type": "stream",
          "name": "stdout",
          "text": [
            "***** Evaluation *****\n",
            "  Accuracy: 0.5902140672782875\n",
            " |-----------|-----------|-----------|-----------|\n",
            " |Class      |Precision  |Recall     |F1-measure |\n",
            " |-----------|-----------|-----------|-----------|\n",
            " |UnVerif    |0.757396   |0.452297   |0.566372   |\n",
            " |VerifDifficult|0.694744   |0.926993   |0.794239   |\n",
            " |NonArg     |0.541667   |0.183616   |0.274262   |\n",
            " |-----------|-----------|-----------|-----------|\n",
            " |MACRO-AVG  |0.664603   |0.520969   |0.544957   |\n",
            " |-----------|-----------|-----------|-----------|\n"
          ]
        },
        {
          "output_type": "display_data",
          "data": {
            "text/plain": [
              "<Figure size 432x288 with 2 Axes>"
            ],
            "image/png": "[encoded data removed]"
          },
          "metadata": {
            "needs_background": "light"
          }
        }
      ],
      "source": [
        "# VerifDifficult/UnVerif, but with original test set\n",
        "evaluate(y_test_all_except_verifeasy, y_pred_all_except_verifeasy, classifier, ['UnVerif', 'VerifDifficult', 'NonArg'])"
      ]
    },
    {
      "cell_type": "code",
      "execution_count": null,
      "metadata": {
        "id": "-nKQZHOnLGc6",
        "colab": {
          "base_uri": "https://localhost:8080/",
          "height": 708
        },
        "outputId": "45a7c7e0-328a-4a2e-99ad-ca7f158a6ecb"
      },
      "outputs": [
        {
          "output_type": "stream",
          "name": "stdout",
          "text": [
            "[0.2256848  0.         0.         ... 0.00538587 0.00153882 0.00153882]\n",
            "['000', '00pm', '00pm flight', '1', '10', '10 years', '100', '1000', '11', '12', '15', '16', '18', '2', '20', '2016', '25', '3', '30', '4', '40', '5', '50', '509', '6', '60', '7', '8', '80', '9', '90', 'a', 'a baby', 'a bad', 'a bastion', 'a bathroom', 'a better', 'a big', 'a biological', 'a bit', 'a black', 'a bunch', 'a burden', 'a case', 'a certain', 'a chance', 'a child', 'a choice', 'a company', 'a computer', 'a conservative', 'a contract', 'a country', 'a couple', 'a crime', 'a cultural', 'a decent', 'a decision', 'a degree', 'a deterrent', 'a difference', 'a different', 'a double', 'a drain', 'a drunk', 'a fact', 'a fair', 'a fetus', 'a few', 'a field', 'a flight', 'a form', 'a full', 'a gay', 'a general', 'a girl', 'a good', 'a government', 'a great', 'a group', 'a gun', 'a guy', 'a higher', 'a huge', 'a human', 'a job', 'a kid', 'a korean', 'a large', 'a larger', 'a law', 'a liberal', 'a life', 'a little', 'a logical', 'a long', 'a lot', 'a major', 'a man', 'a mary', 'a matter', 'a military', 'a moral', 'a more', 'a much', 'a muslim', 'a nazi', 'a negative', 'a new', 'a non', 'a number', 'a part', 'a perfect', 'a person', 'a personal', 'a place', 'a platform', 'a point', 'a political', 'a position', 'a positive', 'a pre', 'a pregnancy', 'a pretty', 'a private', 'a problem', 'a product', 'a question', 'a race', 'a really', 'a reason', 'a reasonable', 'a relationship', 'a result', 'a right', 'a similar', 'a single', 'a small', 'a society', 'a soldier', 'a specific', 'a state', 'a strong', 'a terrorist', 'a ticket', 'a ton', 'a valid', 'a variety', 'a very', 'a war', 'a way', 'a week', 'a while', 'a white', 'a whole', 'a woman', 'a word', 'a world', 'a zygote', 'ability', 'ability to', 'able', 'able to', 'abort', 'abortion', 'abortion is', 'about', 'about a', 'about how', 'about it', 'about people', 'about the', 'about their', 'about them', 'about this', 'about what', 'about your', 'above', 'absolute', 'absolutely', 'abstraction', 'accent', 'accept', 'accept that', 'acceptable', 'accepted', 'accepting', 'access', 'access to', 'according', 'according to', 'account', 'accountable', 'accountable for', 'accurate', 'accurately', 'achieve', 'acknowledge', 'across', 'act', 'act as', 'action', 'actions', 'active', 'actively', 'acts', 'acts of', 'actual', 'actually', 'actually a', 'actually have', 'add', 'addiction', 'addition', 'additional', 'additionally', 'address', 'admit', 'adopt', 'adopted', 'adopting', 'adopting a', 'adoption', 'adult', 'adults', 'advance', 'advancement', 'advantage', 'advantage of', 'advantages', 'advocate', 'advocating', 'affect', 'afford', 'afraid', 'africa', 'african', 'african american', 'african americans', 'afro', 'after', 'after a', 'after the', 'again', 'against', 'against a', 'against the', 'age', 'age of', 'agenda', 'ago', 'agree', 'agree on', 'agree that', 'agree to', 'agree with', 'agreed', 'agreement', 'agreements', 'ahead', 'ahead of', 'ai', 'air', 'airline', 'airlines', 'airlines overbook', 'alcohol', 'alcohol and', 'alcohol is', 'alcoholic', 'alcoholism', 'all', 'all be', 'all but', 'all of', 'all over', 'all that', 'all the', 'all these', 'all you', 'allow', 'allowed', 'allowed to', 'allowing', 'allows', 'almost', 'alone', 'along', 'already', 'already have', 'also', 'also a', 'also be', 'also have', 'also i', 'also if', 'also the', 'alternative', 'although', 'always', 'always be', 'always been', 'am', 'am a', 'am not', 'amazing', 'amendment', 'america', 'america has', 'america is', 'american', 'american and', 'american is', 'american than', 'americans', 'americans and', 'americans have', 'among', 'amount', 'amount of', 'amp', 'an', 'an abortion', 'an agenda', 'an american', 'an argument', 'an army', 'an entire', 'an example', 'an important', 'an individual', 'an iphone', 'an issue', 'and', 'and a', 'and all', 'and an', 'and are', 'and as', 'and at', 'and be', 'and because', 'and by', 'and can', 'and do', 'and don', 'and even', 'and everyone', 'and for', 'and get', 'and godaddy', 'and has', 'and have', 'and he', 'and how', 'and i', 'and if', 'and in', 'and is', 'and it', 'and just', 'and look', 'and many', 'and may', 'and maybe', 'and more', 'and most', 'and my', 'and no', 'and not', 'and now', 'and of', 'and one', 'and only', 'and or', 'and other', 'and out', 'and people', 'and say', 'and should', 'and so', 'and some', 'and take', 'and that', 'and the', 'and their', 'and then', 'and there', 'and therefore', 'and they', 'and this', 'and thus', 'and to', 'and use', 'and was', 'and we', 'and what', 'and when', 'and while', 'and white', 'and will', 'and with', 'and would', 'and you', 'and your', 'android', 'animals', 'another', 'answer', 'answer to', 'anti', 'anti gay', 'any', 'any country', 'any dividing', 'any more', 'any of', 'any other', 'any way', 'anybody', 'anymore', 'anyone', 'anyone else', 'anyone who', 'anything', 'anything but', 'anything that', 'anything to', 'anyway', 'anywhere', 'apart', 'apparently', 'appearance', 'appears', 'apple', 'apple is', 'apple products', 'applies', 'applies to', 'apply', 'apply to', 'appreciate', 'approach', 'arab', 'arbitrary', 'are', 'are a', 'are all', 'are already', 'are also', 'are an', 'are at', 'are being', 'are free', 'are generally', 'are going', 'are in', 'are just', 'are less', 'are making', 'are many', 'are more', 'are no', 'are not', 'are now', 'are only', 'are people', 'are perpetuating', 'are probably', 'are saying', 'are so', 'are some', 'are still', 'are the', 'are there', 'are they', 'are trying', 'are very', 'are willing', 'are you', 'area', 'areas', 'aren', 'aren t', 'arguably', 'argue', 'argue that', 'argued', 'arguing', 'arguing that', 'argument', 'argument is', 'argument that', 'arguments', 'armed', 'armed forces', 'armies', 'arms', 'army', 'around', 'around the', 'article', 'as', 'as a', 'as an', 'as being', 'as far', 'as for', 'as i', 'as if', 'as it', 'as long', 'as many', 'as much', 'as opposed', 'as possible', 'as someone', 'as soon', 'as such', 'as that', 'as the', 'as they', 'as those', 'as to', 'as we', 'as well', 'as you', 'asian', 'asian americans', 'asians', 'aside', 'ask', 'asked', 'asking', 'aspect', 'aspx', 'ass', 'assholes', 'associated', 'associated with', 'assume', 'assume that', 'assuming', 'assuming that', 'assumption', 'at', 'at a', 'at all', 'at an', 'at best', 'at conception', 'at first', 'at it', 'at least', 'at some', 'at that', 'at the', 'at their', 'at this', 'at what', 'at which', 'at work', 'attack', 'attacks', 'attempt', 'attempt to', 'attention', 'attitudes', 'attractive', 'attractive people', 'attractiveness', 'australia', 'authority', 'automation', 'available', 'average', 'avoid', 'avoiding', 'aware', 'aware that', 'awareness', 'away', 'away from', 'awesome', 'b', 'babies', 'baby', 'back', 'back to', 'background', 'bad', 'bad thing', 'badly', 'balance', 'ban', 'banned', 'banning', 'bar', 'barely', 'base', 'based', 'based off', 'based on', 'basic', 'basically', 'basically the', 'basis', 'basis of', 'bastion', 'bastion of', 'bathroom', 'bathrooms', 'be', 'be a', 'be able', 'be allowed', 'be an', 'be as', 'be better', 'be born', 'be called', 'be changed', 'be clear', 'be considered', 'be done', 'be fine', 'be forced', 'be free', 'be held', 'be in', 'be it', 'be less', 'be more', 'be much', 'be no', 'be protected', 'be put', 'be right', 'be seen', 'be some', 'be the', 'be treated', 'be used', 'be very', 'be worth', 'bear', 'beats', 'beautiful', 'beauty', 'became', 'because', 'because a', 'because he', 'because i', 'because it', 'because of', 'because that', 'because the', 'because there', 'because they', 'because we', 'because you', 'become', 'become a', 'become an', 'become more', 'becomes', 'becomes a', 'becoming', 'becoming a', 'bed', 'been', 'been a', 'before', 'before i', 'before the', 'before we', 'before you', 'begin', 'begin to', 'begins', 'behave', 'behavior', 'behind', 'being', 'being a', 'being able', 'being an', 'being called', 'being drunk', 'being in', 'being said', 'belief', 'beliefs', 'believe', 'believe in', 'believe it', 'believe that', 'believe there', 'believes', 'below', 'beneficial', 'benefit', 'benefit to', 'benefits', 'besides', 'besides the', 'best', 'bet', 'better', 'better for', 'better in', 'better than', 'between', 'between the', 'beyond', 'bias', 'big', 'bigger', 'biggest', 'bigoted', 'bill', 'binary', 'biological', 'biological child', 'biological children', 'birth', 'bit', 'bit more', 'bit of', 'black', 'black and', 'black as', 'black is', 'black or', 'black people', 'blacks', 'blame', 'blood', 'board', 'body', 'book', 'book is', 'booked', 'books', 'booze', 'born', 'born in', 'born person', 'born with', 'both', 'both are', 'both of', 'bottle', 'bottom', 'bought', 'box', 'brain', 'brand', 'break', 'breaking', 'brexit', 'bring', 'bringing', 'brings', 'britain', 'british', 'broad', 'brother', 'brown', 'btw', 'build', 'building', 'built', 'bumped', 'bunch', 'bunch of', 'burden', 'business', 'but', 'but a', 'but also', 'but as', 'but even', 'but for', 'but he', 'but i', 'but if', 'but in', 'but it', 'but just', 'but my', 'but no', 'but not', 'but now', 'but only', 'but rather', 'but so', 'but some', 'but that', 'but the', 'but then', 'but there', 'but they', 'but this', 'but those', 'but to', 'but we', 'but what', 'but when', 'but with', 'but you', 'but your', 'buy', 'buy a', 'buying', 'by', 'by a', 'by being', 'by definition', 'by people', 'by saying', 'by the', 'by their', 'by your', 'cable', 'cables', 'call', 'called', 'called black', 'called white', 'calling', 'came', 'came out', 'can', 'can and', 'can be', 'can buy', 'can do', 'can get', 'can go', 'can have', 'can make', 'can only', 'can pretty', 'can say', 'can see', 'can still', 'can t', 'can tell', 'can you', 'canada', 'canada and', 'cancel', 'cannot', 'capable', 'capable of', 'capacity', 'car', 'care', 'care about', 'career', 'careful', 'cares', 'carriage', 'carry', 'carrying', 'cars', 'case', 'case of', 'cases', 'cash', 'catch', 'category', 'caucasian', 'cause', 'caused', 'caused by', 'causes', 'causing', 'cells', 'censorship', 'center', 'central', 'centuries', 'century', 'certain', 'certainly', 'challenge', 'chance', 'chance of', 'chance to', 'chances', 'change', 'change it', 'change the', 'change your', 'changed', 'changes', 'changes in', 'changing', 'character', 'characters', 'charge', 'chart', 'cheap', 'cheaper', 'check', 'chicago', 'child', 'child and', 'child with', 'children', 'children and', 'children are', 'china', 'cho', 'choice', 'choices', 'choose', 'choose to', 'choosing', 'choosing to', 'christian', 'christians', 'church', 'circle', 'circumstances', 'citizen', 'citizens', 'city', 'civil', 'claim', 'claim that', 'claiming', 'class', 'classes', 'clean', 'clear', 'clearly', 'close', 'close to', 'club', 'cmv', 'co', 'co uk', 'code', 'college', 'college educated', 'college teaches', 'color', 'columbine', 'com', 'com r', 'com watch', 'come', 'come from', 'come to', 'come up', 'comes', 'comes down', 'comes from', 'comes to', 'comes with', 'comfortable', 'coming', 'coming from', 'comment', 'comments', 'commit', 'committing', 'common', 'commonly', 'communities', 'community', 'companies', 'companies that', 'company', 'company to', 'compare', 'compared', 'compared to', 'comparison', 'compassion', 'compensation', 'competing', 'competitive', 'complete', 'completely', 'complex', 'complicated', 'components', 'compromised', 'computer', 'computers', 'concept', 'concept of', 'conception', 'concern', 'concerned', 'concerned with', 'concerns', 'conclusion', 'conclusions', 'condition', 'conditions', 'confidence', 'confident', 'conflict', 'consent', 'consent is', 'consent to', 'consented', 'consenting', 'consequences', 'consequences of', 'conservative', 'conservative views', 'conservatives', 'consider', 'consider myself', 'consider that', 'consider the', 'consideration', 'considered', 'considered a', 'considering', 'constant', 'constantly', 'constitution', 'consumer', 'content', 'context', 'continue', 'continue to', 'continues', 'contract', 'contracts', 'contribute', 'contribute to', 'contributing', 'control', 'control of', 'control over', 'conversation', 'convince', 'convincing', 'cool', 'cops', 'core', 'correct', 'correlated', 'corrupt', 'cosmetic', 'cosmetic surgery', 'cost', 'cost of', 'costs', 'could', 'could be', 'could have', 'could not', 'couldn', 'couldn t', 'count', 'counter', 'countries', 'countries are', 'countries have', 'countries that', 'countries you', 'country', 'country and', 'country is', 'country of', 'country that', 'couple', 'couple of', 'course', 'court', 'coworkers', 'crazy', 'create', 'create a', 'created', 'creating', 'crime', 'crimes', 'criminal', 'criminals', 'critical', 'critically', 'cultural', 'culture', 'culture and', 'culture is', 'cultures', 'currency', 'current', 'currently', 'customer', 'customers', 'cut', 'cycle', 'd', 'd argue', 'd be', 'd have', 'd like', 'd rather', 'd say', 'dad', 'daily', 'damage', 'damn', 'dangerous', 'dark', 'darker', 'data', 'date', 'dating', 'day', 'days', 'dead', 'deal', 'deal with', 'dealing', 'dealing with', 'deals', 'death', 'deaths', 'debate', 'debt', 'decades', 'decent', 'deceptive', 'decide', 'decided', 'decided to', 'decides', 'decides to', 'decision', 'decision to', 'decisions', 'decisions that', 'declare', 'deep', 'defend', 'defense', 'define', 'define a', 'define the', 'defined', 'defining', 'definitely', 'definition', 'definition of', 'degree', 'degrees', 'democracy', 'democratic', 'democrats', 'demographic', 'deny', 'depend', 'depend on', 'dependent', 'dependent on', 'depending', 'depending on', 'depends', 'depends on', 'depression', 'descent', 'describe', 'described', 'describing', 'descriptor', 'design', 'desire', 'desire to', 'desperate', 'despite', 'destination', 'destroyed', 'detail', 'deterrent', 'deus', 'develop', 'developed', 'developers', 'developing', 'development', 'devices', 'dictator', 'did', 'did not', 'did you', 'didn', 'didn t', 'die', 'died', 'difference', 'difference between', 'difference in', 'difference is', 'differences', 'different', 'different from', 'different than', 'differently', 'difficult', 'difficult to', 'directly', 'disabilities', 'disability', 'disabled', 'disabled people', 'disadvantage', 'disagree', 'disagree with', 'discussion', 'disease', 'distinction', 'diversity', 'divide', 'dividing', 'dividing line', 'do', 'do anything', 'do have', 'do is', 'do it', 'do not', 'do so', 'do something', 'do that', 'do the', 'do this', 'do to', 'do we', 'do what', 'do with', 'do you', 'doctor', 'doctors', 'does', 'does it', 'does not', 'does this', 'doesn', 'doesn t', 'dog', 'doing', 'domain', 'don', 'don t', 'done', 'dont', 'door', 'double', 'doubt', 'doubt that', 'down', 'down and', 'down s', 'down syndrome', 'down the', 'down to', 'downs', 'dr', 'drain', 'drain on', 'draw', 'drink', 'drinking', 'drinking and', 'drinking is', 'drinks', 'drive', 'driving', 'drop', 'dropped', 'drug', 'drugs', 'drunk', 'drunk and', 'drunk person', 'drunk you', 'dude', 'due', 'due to', 'dumb', 'during', 'dying', 'e', 'e g', 'each', 'each other', 'early', 'earth', 'easier', 'easier to', 'easily', 'east', 'eastern', 'easy', 'easy to', 'eat', 'ecological', 'economic', 'economic migrants', 'economically', 'economies', 'economy', 'edge', 'edit', 'educated', 'educated people', 'education', 'education and', 'education is', 'educational', 'effect', 'effect of', 'effectively', 'effectiveness', 'effects', 'efficient', 'effort', 'effort to', 'either', 'elected', 'elements', 'else', 'else s', 'elsewhere', 'emotional', 'empty', 'empty seats', 'en', 'en wikipedia', 'end', 'end of', 'end up', 'ended', 'ended up', 'ending', 'ends', 'ends up', 'engage', 'engineering', 'england', 'english', 'enjoy', 'enormous', 'enough', 'enough to', 'ensure', 'entering', 'entire', 'entirely', 'entitled', 'entitled to', 'environment', 'equal', 'equally', 'era', 'err', 'err 509', 'especially', 'especially if', 'essentially', 'established', 'etc', 'etc etc', 'ethnic', 'ethnicity', 'eu', 'eu and', 'eu is', 'eugenics', 'europe', 'european', 'european countries', 'europeans', 'eurozone', 'even', 'even a', 'even be', 'even if', 'even in', 'even more', 'even the', 'even though', 'even when', 'even with', 'event', 'events', 'eventually', 'ever', 'every', 'every day', 'every other', 'every person', 'every single', 'every way', 'everybody', 'everyone', 'everyone else', 'everyone is', 'everything', 'everything is', 'everywhere', 'evidence', 'evil', 'ex', 'exact', 'exact same', 'exactly', 'exactly what', 'example', 'example i', 'example is', 'example of', 'example the', 'examples', 'examples of', 'except', 'except for', 'exception', 'exceptional', 'exchange', 'excuse', 'exercise', 'exist', 'exist in', 'existence', 'existing', 'exists', 'expect', 'expected', 'expensive', 'experience', 'experiences', 'explicitly', 'exposed', 'exposed to', 'express', 'extension', 'extent', 'extra', 'extreme', 'extremely', 'extremist', 'eyes', 'face', 'facebook', 'facilities', 'fact', 'fact is', 'fact that', 'factor', 'factor in', 'factors', 'facts', 'fail', 'failure', 'fair', 'fairly', 'fall', 'fallacy', 'falling', 'false', 'families', 'family', 'fan', 'far', 'far as', 'far more', 'fare', 'fast', 'faster', 'father', 'fault', 'fear', 'fear of', 'federal', 'feel', 'feel better', 'feel like', 'feel that', 'feeling', 'feelings', 'feels', 'felt', 'female', 'fetus', 'fetus becomes', 'fetus is', 'fetuses', 'few', 'few months', 'few people', 'few years', 'fewer', 'field', 'fields', 'fight', 'fighting', 'figure', 'fill', 'finally', 'financial', 'financially', 'find', 'find a', 'find it', 'find that', 'find the', 'finding', 'fine', 'fire', 'firearms', 'first', 'first amendment', 'first place', 'fit', 'fix', 'flaw', 'flawed', 'flight', 'flight is', 'flights', 'fly', 'focus', 'focus on', 'folks', 'follow', 'following', 'follows', 'food', 'food water', 'for', 'for a', 'for all', 'for an', 'for any', 'for being', 'for decades', 'for every', 'for everyone', 'for example', 'for free', 'for her', 'for his', 'for instance', 'for it', 'for me', 'for my', 'for other', 'for people', 'for some', 'for sure', 'for that', 'for the', 'for their', 'for them', 'for themselves', 'for this', 'for those', 'for us', 'for what', 'for years', 'for you', 'for your', 'for yourself', 'force', 'force them', 'forced', 'forced to', 'forces', 'forcing', 'foreign', 'forget', 'form', 'form of', 'former', 'found', 'france', 'fraud', 'free', 'free speech', 'free to', 'freedom', 'freedom and', 'freedom is', 'freedom of', 'freedom to', 'freedoms', 'freely', 'friend', 'friends', 'friends with', 'from', 'from a', 'from all', 'from an', 'from any', 'from being', 'from my', 'from the', 'from their', 'from what', 'from your', 'fuck', 'fucked', 'fucking', 'full', 'fully', 'fun', 'function', 'functional', 'fundamental', 'further', 'future', 'g', 'gain', 'game', 'games', 'gave', 'gay', 'gay people', 'gays', 'gender', 'gender neutral', 'general', 'generally', 'generation', 'generations', 'genes', 'genetic', 'genocide', 'german', 'germans', 'germany', 'germany and', 'germany has', 'germany is', 'get', 'get a', 'get drunk', 'get in', 'get it', 'get on', 'get the', 'get their', 'get to', 'get what', 'get you', 'gets', 'gets to', 'getting', 'getting a', 'getting drunk', 'getting to', 'ginny', 'girl', 'girl and', 'girlfriend', 'give', 'give a', 'give consent', 'give it', 'give them', 'give you', 'given', 'given that', 'given the', 'gives', 'giving', 'global', 'go', 'go into', 'go out', 'go through', 'go to', 'goal', 'god', 'godaddy', 'goes', 'going', 'going on', 'going to', 'gone', 'gonna', 'good', 'good at', 'good for', 'good luck', 'good thing', 'google', 'google and', 'got', 'got a', 'gotten', 'government', 'government is', 'government takeover', 'government to', 'governments', 'govt', 'granted', 'great', 'greater', 'greatly', 'greece', 'grew', 'grew up', 'ground', 'group', 'group of', 'groups', 'grow', 'growing', 'growth', 'gt', 'gt but', 'gt i', 'gt if', 'gt the', 'guarantee', 'guaranteed', 'guess', 'gun', 'gun control', 'gun laws', 'gun ownership', 'gun violence', 'guns', 'guns and', 'guns are', 'guns to', 'gut', 'guy', 'guy who', 'guys', 'gym', 'had', 'had a', 'had no', 'had the', 'had to', 'hair', 'half', 'hand', 'hands', 'hang', 'happen', 'happen to', 'happened', 'happening', 'happens', 'happens when', 'happy', 'hard', 'hard to', 'harder', 'hardware', 'harm', 'harmful', 'harry', 'harry potter', 'has', 'has a', 'has always', 'has an', 'has been', 'has had', 'has made', 'has no', 'has the', 'has to', 'hate', 'hate speech', 'hateful', 'have', 'have a', 'have access', 'have already', 'have an', 'have and', 'have any', 'have been', 'have children', 'have done', 'have had', 'have it', 'have kids', 'have less', 'have more', 'have never', 'have no', 'have not', 'have one', 'have people', 'have seen', 'have sex', 'have some', 'have taken', 'have that', 'have the', 'have their', 'have this', 'have to', 'have very', 'have you', 'haven', 'haven t', 'having', 'having a', 'having an', 'having the', 'having to', 'he', 'he can', 'he had', 'he has', 'he is', 'he s', 'he said', 'he was', 'head', 'headphone', 'headphone jack', 'health', 'health care', 'healthcare', 'healthy', 'hear', 'heard', 'heavily', 'heavy', 'heavy drinking', 'held', 'held accountable', 'hell', 'help', 'helped', 'helps', 'her', 'here', 'here and', 'here are', 'here i', 'here in', 'here is', 'here s', 'heritage', 'hermione', 'hero', 'hey', 'high', 'high school', 'higher', 'higher education', 'highly', 'him', 'himself', 'his', 'history', 'history of', 'hit', 'hitler', 'hold', 'holding', 'home', 'homeless', 'homes', 'homicide', 'homicide rate', 'homophobic', 'homosexuality', 'homosexuals', 'honest', 'honestly', 'hope', 'hopefully', 'horrible', 'hospital', 'host', 'hosting', 'hotel', 'hour', 'hours', 'house', 'how', 'how about', 'how do', 'how does', 'how free', 'how is', 'how it', 'how many', 'how much', 'how the', 'how they', 'how to', 'how we', 'how you', 'however', 'however i', 'however if', 'however you', 'hp', 'hp is', 'html', 'http', 'http www', 'https', 'https en', 'https www', 'https youtu', 'huge', 'human', 'human being', 'human knowledge', 'human life', 'human rights', 'humanity', 'humans', 'hundred', 'hurt', 'i', 'i agree', 'i also', 'i am', 'i assume', 'i believe', 'i can', 'i cannot', 'i could', 'i d', 'i did', 'i didn', 'i disagree', 'i do', 'i don', 'i dont', 'i doubt', 'i feel', 'i find', 'i get', 'i got', 'i grew', 'i guess', 'i had', 'i have', 'i hope', 'i just', 'i know', 'i like', 'i live', 'i ll', 'i love', 'i m', 'i may', 'i mean', 'i need', 'i personally', 'i read', 'i really', 'i remember', 'i say', 'i see', 'i should', 'i still', 'i suppose', 'i suspect', 'i think', 'i thought', 'i understand', 'i ve', 'i want', 'i was', 'i will', 'i won', 'i would', 'i wouldn', 'icann', 'idea', 'idea of', 'idea that', 'ideal', 'ideals', 'ideas', 'identify', 'identity', 'ideology', 'if', 'if a', 'if all', 'if i', 'if it', 'if not', 'if so', 'if someone', 'if that', 'if the', 'if there', 'if they', 'if this', 'if we', 'if you', 'if your', 'ignorance', 'ignore', 'ill', 'illegal', 'illness', 'illnesses', 'im', 'imagination', 'imagine', 'immediately', 'immigrant', 'immigrants', 'immigrants from', 'immigration', 'immoral', 'imo', 'impact', 'implicitly', 'important', 'important to', 'importantly', 'impossible', 'improve', 'improvement', 'in', 'in a', 'in addition', 'in all', 'in america', 'in an', 'in and', 'in any', 'in both', 'in canada', 'in certain', 'in check', 'in europe', 'in every', 'in fact', 'in general', 'in germany', 'in high', 'in his', 'in history', 'in it', 'in jail', 'in large', 'in life', 'in many', 'in mind', 'in most', 'in my', 'in one', 'in order', 'in other', 'in our', 'in place', 'in public', 'in reality', 'in society', 'in some', 'in technology', 'in terms', 'in that', 'in the', 'in their', 'in there', 'in this', 'in those', 'in to', 'in which', 'in your', 'include', 'including', 'income', 'increase', 'increasing', 'incredibly', 'indeed', 'independent', 'index', 'indian', 'indicator', 'individual', 'individuals', 'industry', 'inevitably', 'inferior', 'influence', 'influenced', 'information', 'informed', 'infrastructure', 'inherent', 'inherently', 'innocent', 'inside', 'instance', 'instead', 'instead of', 'instinct', 'institutions', 'integrate', 'intellectual', 'intelligence', 'intelligent', 'intent', 'interest', 'interest in', 'interested', 'interesting', 'interests', 'international', 'internet', 'into', 'into a', 'into the', 'intoxicated', 'intoxication', 'invade', 'involved', 'iphone', 'iphone 7', 'iq', 'iraq', 'irish', 'irrelevant', 'is', 'is a', 'is about', 'is actually', 'is all', 'is already', 'is also', 'is always', 'is an', 'is at', 'is because', 'is better', 'is black', 'is completely', 'is correct', 'is definitely', 'is either', 'is enough', 'is entirely', 'is far', 'is fine', 'is for', 'is free', 'is going', 'is good', 'is hard', 'is how', 'is if', 'is in', 'is irrelevant', 'is it', 'is just', 'is like', 'is likely', 'is morally', 'is more', 'is much', 'is no', 'is not', 'is nothing', 'is now', 'is often', 'is on', 'is one', 'is only', 'is outlawed', 'is pointless', 'is pretty', 'is probably', 'is really', 'is simply', 'is so', 'is something', 'is still', 'is such', 'is that', 'is the', 'is their', 'is there', 'is this', 'is to', 'is too', 'is true', 'is used', 'is usually', 'is very', 'is what', 'is why', 'is worth', 'is wrong', 'is you', 'is your', 'isis', 'islam', 'islamic', 'isn', 'isn t', 'isnt', 'isolated', 'issue', 'issue is', 'issue with', 'issues', 'it', 'it a', 'it and', 'it as', 'it be', 'it but', 'it can', 'it comes', 'it could', 'it does', 'it doesn', 'it for', 'it from', 'it has', 'it in', 'it is', 'it isn', 'it just', 'it ll', 'it makes', 'it may', 'it means', 'it might', 'it or', 'it really', 'it s', 'it seems', 'it should', 'it sounds', 'it takes', 'it the', 'it they', 'it to', 'it was', 'it wasn', 'it will', 'it with', 'it would', 'its', 'its a', 'its not', 'its own', 'itself', 'itself is', 'jack', 'jail', 'japan', 'jews', 'job', 'jobs', 'join', 'join the', 'joined', 'joined the', 'joining', 'joining the', 'joy', 'judge', 'judged', 'just', 'just a', 'just an', 'just as', 'just be', 'just because', 'just have', 'just like', 'just not', 'just that', 'just to', 'just want', 'justification', 'justify', 'k', 'keep', 'keeping', 'key', 'kicked', 'kid', 'kids', 'kill', 'kill people', 'killed', 'killing', 'kind', 'kind of', 'kinda', 'knew', 'know', 'know how', 'know if', 'know it', 'know that', 'know the', 'know what', 'know you', 'knowing', 'knowledge', 'known', 'knows', 'korea', 'korean', 'label', 'labor', 'lack', 'lack of', 'land', 'language', 'languages', 'large', 'large numbers', 'largely', 'larger', 'largest', 'last', 'late', 'later', 'law', 'laws', 'laws against', 'laws are', 'lead', 'lead to', 'leaders', 'leading', 'leads', 'leads to', 'learn', 'learned', 'learning', 'least', 'leave', 'leaving', 'led', 'led to', 'left', 'left wing', 'legal', 'legally', 'legitimate', 'less', 'less attractive', 'less than', 'let', 'let me', 'let s', 'lets', 'level', 'level of', 'levels', 'levels of', 'lgbt', 'liberal', 'liberalism', 'liberals', 'libertarian', 'liberty', 'life', 'life and', 'life for', 'life in', 'life is', 'life of', 'lifestyle', 'lifetime', 'light', 'lightning', 'like', 'like a', 'like any', 'like it', 'like that', 'like the', 'like they', 'like this', 'like to', 'like you', 'likely', 'likely that', 'likely to', 'limit', 'limited', 'limits', 'line', 'line of', 'lines', 'link', 'linux', 'list', 'listed', 'listen', 'literally', 'literature', 'little', 'little bit', 'little to', 'live', 'live in', 'lived', 'lived in', 'liver', 'lives', 'living', 'living in', 'll', 'll be', 'll get', 'll have', 'local', 'logic', 'logical', 'logical point', 'logically', 'long', 'long as', 'long run', 'long term', 'longer', 'look', 'look at', 'look like', 'look up', 'looked', 'looking', 'looking at', 'looking for', 'looks', 'lose', 'losing', 'lost', 'lot', 'lot more', 'lot of', 'lots', 'lots of', 'love', 'loved', 'low', 'lower', 'lowering', 'luck', 'm', 'm a', 'm going', 'm not', 'm sure', 'm trying', 'mac', 'macbook', 'machines', 'made', 'made a', 'made it', 'made me', 'magic', 'magically', 'main', 'maintain', 'major', 'majority', 'majority of', 'make', 'make a', 'make an', 'make any', 'make it', 'make sense', 'make sure', 'make the', 'make them', 'make you', 'makes', 'makes it', 'makes sense', 'makes you', 'making', 'making a', 'making it', 'making the', 'male', 'man', 'many', 'many many', 'many of', 'many other', 'many people', 'market', 'marketing', 'markets', 'marriage', 'mary', 'mary sue', 'mass', 'mass shootings', 'massive', 'math', 'matter', 'matter of', 'matter who', 'matters', 'may', 'may be', 'may have', 'may not', 'maybe', 'maybe it', 'me', 'me a', 'me and', 'me or', 'me that', 'me the', 'me to', 'mean', 'mean that', 'mean you', 'meaning', 'meaning that', 'meaningful', 'means', 'means of', 'means that', 'means you', 'meant', 'measure', 'media', 'medical', 'meet', 'member', 'members', 'men', 'men and', 'men s', 'mental', 'mental illness', 'mental illnesses', 'mentally', 'mentally ill', 'mentally retarded', 'mention', 'mentioned', 'merely', 'mess', 'message', 'met', 'middle', 'middle east', 'middle eastern', 'might', 'might be', 'might not', 'migrants', 'military', 'million', 'million people', 'millions', 'mind', 'minded', 'minds', 'mindset', 'minimum', 'minorities', 'minority', 'miss', 'missing', 'mistake', 'mix', 'mobility', 'model', 'models', 'modern', 'mom', 'moment', 'money', 'money and', 'money to', 'month', 'months', 'moral', 'morality', 'morally', 'morally wrong', 'more', 'more about', 'more american', 'more and', 'more educated', 'more free', 'more i', 'more important', 'more intelligent', 'more liberal', 'more likely', 'more money', 'more of', 'more often', 'more or', 'more people', 'more than', 'more to', 'more valid', 'moreover', 'morning', 'most', 'most likely', 'most of', 'most people', 'mostly', 'mother', 'motivation', 'move', 'moved', 'movement', 'movie', 'movies', 'much', 'much as', 'much better', 'much more', 'much of', 'much the', 'much time', 'multiple', 'murder', 'murders', 'music', 'muslim', 'muslim immigrants', 'muslims', 'muslims in', 'must', 'must be', 'mutual', 'my', 'my dad', 'my experience', 'my family', 'my friend', 'my friends', 'my life', 'my opinion', 'my own', 'my point', 'my understanding', 'my view', 'my wife', 'myself', 'name', 'narrow', 'nation', 'nation a', 'national', 'nationality', 'nations', 'native', 'natural', 'natural resources', 'naturally', 'nature', 'nazi', 'nazis', 'near', 'nearly', 'necessarily', 'necessary', 'need', 'need a', 'need for', 'need it', 'need more', 'need to', 'needed', 'needs', 'needs to', 'negative', 'negotiate', 'neighbors', 'neither', 'neo', 'net', 'neutral', 'never', 'never be', 'never have', 'new', 'news', 'next', 'next to', 'nice', 'night', 'no', 'no longer', 'no matter', 'no more', 'no no', 'no one', 'no reason', 'no sense', 'no way', 'nobody', 'non', 'none', 'none of', 'nor', 'normal', 'normally', 'north', 'norway', 'not', 'not a', 'not all', 'not an', 'not as', 'not at', 'not be', 'not because', 'not being', 'not even', 'not going', 'not have', 'not having', 'not in', 'not it', 'not just', 'not know', 'not like', 'not make', 'not mean', 'not necessarily', 'not on', 'not only', 'not really', 'not responsible', 'not saying', 'not sure', 'not that', 'not the', 'not to', 'not want', 'not what', 'not you', 'not your', 'note', 'nothing', 'nothing to', 'nothing wrong', 'notice', 'now', 'now it', 'now you', 'nowadays', 'nowhere', 'number', 'number of', 'numbers', 'obama', 'objective', 'objectively', 'objectively better', 'obligation', 'obligation to', 'obvious', 'obviously', 'of', 'of a', 'of african', 'of alcohol', 'of all', 'of america', 'of american', 'of an', 'of another', 'of any', 'of being', 'of black', 'of course', 'of education', 'of europe', 'of freedom', 'of getting', 'of gun', 'of guns', 'of having', 'of his', 'of how', 'of human', 'of immigrants', 'of it', 'of its', 'of knowledge', 'of life', 'of making', 'of money', 'of my', 'of not', 'of one', 'of other', 'of others', 'of our', 'of overbooking', 'of people', 'of political', 'of religion', 'of rights', 'of society', 'of some', 'of someone', 'of speech', 'of terrorism', 'of that', 'of the', 'of their', 'of them', 'of these', 'of this', 'of those', 'of time', 'of us', 'of view', 'of violence', 'of war', 'of what', 'of which', 'of years', 'of you', 'of your', 'off', 'off of', 'off the', 'offended', 'offended by', 'offensive', 'offer', 'office', 'often', 'oh', 'ok', 'okay', 'old', 'older', 'on', 'on a', 'on an', 'on and', 'on average', 'on it', 'on its', 'on my', 'on one', 'on our', 'on society', 'on that', 'on the', 'on their', 'on them', 'on this', 'on to', 'on what', 'on your', 'once', 'once you', 'one', 'one and', 'one another', 'one can', 'one could', 'one day', 'one in', 'one is', 'one of', 'one party', 'one person', 'one point', 'one s', 'one that', 'one thing', 'one wants', 'one way', 'ones', 'ones who', 'online', 'only', 'only a', 'only logical', 'only one', 'only reason', 'only the', 'only thing', 'only way', 'op', 'open', 'operate', 'opinion', 'opinion of', 'opinions', 'opportunity', 'opportunity to', 'opposed', 'opposed to', 'opposing', 'opposite', 'opposition', 'option', 'options', 'or', 'or a', 'or any', 'or anyone', 'or at', 'or even', 'or is', 'or just', 'or less', 'or more', 'or not', 'or other', 'or something', 'or that', 'or the', 'or two', 'or whatever', 'or you', 'order', 'order to', 'orders', 'org', 'org wiki', 'organization', 'origin', 'original', 'orlando', 'os', 'other', 'other countries', 'other country', 'other factors', 'other hand', 'other is', 'other people', 'other than', 'other things', 'others', 'others have', 'otherwise', 'our', 'our own', 'our society', 'ourselves', 'out', 'out and', 'out in', 'out of', 'out on', 'out that', 'out the', 'out there', 'out to', 'outlawed', 'outright', 'outside', 'outside of', 'outside the', 'over', 'over a', 'over and', 'over it', 'over the', 'over time', 'overall', 'overbook', 'overbooked', 'overbooking', 'overbooking is', 'overcome', 'overpriced', 'overwhelming', 'overwhelmingly', 'own', 'own a', 'owned', 'owners', 'ownership', 'owns', 'paid', 'paid for', 'pain', 'paint', 'par', 'parent', 'parents', 'part', 'part of', 'partially', 'participate', 'participate in', 'particular', 'particularly', 'parties', 'partner', 'parts', 'parts of', 'party', 'pass', 'passed', 'passenger', 'passengers', 'past', 'path', 'pay', 'pay for', 'paying', 'pc', 'peace', 'peaceful', 'pee', 'pee next', 'people', 'people and', 'people are', 'people can', 'people do', 'people don', 'people for', 'people from', 'people have', 'people i', 'people in', 'people like', 'people of', 'people on', 'people s', 'people should', 'people tend', 'people that', 'people think', 'people to', 'people who', 'people will', 'people willing', 'people with', 'people would', 'peoples', 'per', 'perceived', 'percentage', 'perception', 'perfect', 'perfectly', 'perfectly fine', 'perhaps', 'perhaps you', 'period', 'perpetrator', 'perpetuate', 'perpetuating', 'perpetuating war', 'person', 'person and', 'person as', 'person b', 'person in', 'person is', 'person or', 'person s', 'person who', 'person with', 'personal', 'personally', 'personally i', 'personhood', 'persons', 'perspective', 'philosophies', 'phone', 'phones', 'physical', 'physically', 'pick', 'piece', 'place', 'place to', 'places', 'plan', 'plane', 'planet', 'plastic', 'plastic surgery', 'platform', 'play', 'please', 'plenty', 'plenty of', 'plus', 'point', 'point at', 'point i', 'point is', 'point of', 'point out', 'point that', 'point to', 'point where', 'pointed', 'pointed out', 'pointless', 'points', 'police', 'policies', 'policy', 'political', 'politically', 'politicians', 'politics', 'pool', 'poor', 'poorly', 'populace', 'popular', 'population', 'position', 'positive', 'possibility', 'possible', 'possible that', 'possibly', 'post', 'potential', 'potentially', 'potter', 'potter is', 'pound', 'poverty', 'power', 'power to', 'powerful', 'practical', 'practice', 'pre', 'pre born', 'prefer', 'pregnancy', 'pregnant', 'premise', 'presence', 'president', 'press', 'pretend', 'pretty', 'pretty much', 'prevent', 'prevented', 'preventing', 'previous', 'price', 'prices', 'pride', 'primarily', 'primary', 'privacy', 'private', 'private companies', 'private company', 'pro', 'pro choice', 'pro life', 'probably', 'probably not', 'problem', 'problem is', 'problem with', 'problematic', 'problems', 'problems and', 'process', 'process of', 'produce', 'product', 'productive', 'products', 'professional', 'professors', 'program', 'programs', 'progressive', 'propaganda', 'proper', 'properly', 'property', 'protect', 'protected', 'protecting', 'protection', 'prove', 'provide', 'provided', 'providing', 'psychological', 'public', 'publish', 'purchase', 'purely', 'purpose', 'purpose of', 'purposes', 'push', 'pushing', 'put', 'puts', 'putting', 'quality', 'quality of', 'question', 'question is', 'question of', 'questions', 'quick', 'quickly', 'quite', 'r', 'race', 'racial', 'racism', 'racist', 'radical', 'raise', 'raised', 'raising', 'random', 'range', 'rape', 'raped', 'rapes', 'rare', 'rarely', 'rate', 'rate of', 'rates', 'rather', 'rather than', 'rational', 're', 're a', 're all', 're doing', 're getting', 're going', 're in', 're just', 're not', 're right', 're saying', 're talking', 're the', 're using', 'reach', 'read', 'read the', 'reading', 'ready', 'real', 'reality', 'realize', 'realize that', 'really', 'really don', 'reason', 'reason for', 'reason to', 'reason why', 'reasonable', 'reasoning', 'reasons', 'receive', 'recent', 'recently', 'recognize', 'recommend', 'record', 'red', 'reddit', 'reddit com', 'reduce', 'reduces', 'referendum', 'referred', 'referred to', 'referring', 'referring to', 'refugees', 'refuse', 'refuse to', 'regard', 'regarding', 'regardless', 'regardless of', 'regards to', 'regular', 'regularly', 'regulate', 'regulations', 'related', 'related to', 'relations', 'relationship', 'relationships', 'relative', 'relative to', 'relatively', 'relevant', 'religion', 'religions', 'religious', 'remain', 'remember', 'remember that', 'remove', 'removed', 'removing', 'republican', 'republicans', 'require', 'required', 'required to', 'requires', 'research', 'reservation', 'resolve', 'resources', 'respect', 'response', 'responsibility', 'responsible', 'responsible for', 'rest', 'rest of', 'restrictions', 'restroom', 'restrooms', 'result', 'result of', 'results', 'results in', 'retarded', 'retarded children', 'return', 'revenue', 'revolution', 'rich', 'rid', 'rid of', 'right', 'right now', 'right or', 'right thing', 'right to', 'right wing', 'rights', 'rights and', 'rights to', 'rise', 'risk', 'risk of', 'road', 'role', 'room', 'ruckus', 'rule', 'rules', 'run', 'running', 'rural', 'russia', 's', 's a', 's about', 's all', 's also', 's an', 's and', 's because', 's been', 's better', 's going', 's how', 's important', 's in', 's just', 's like', 's more', 's no', 's not', 's only', 's possible', 's probably', 's race', 's really', 's right', 's room', 's say', 's the', 's true', 's very', 's what', 's why', 's worth', 's your', 'sad', 'safe', 'safer', 'safety', 'safety issue', 'said', 'said that', 'sake', 'same', 'same as', 'same for', 'same thing', 'same time', 'same way', 'same with', 'save', 'saw', 'say', 'say i', 'say it', 'say that', 'say the', 'say they', 'say we', 'say you', 'saying', 'saying that', 'says', 'scale', 'scenario', 'scenarios', 'school', 'school and', 'schools', 'science', 'screwed', 'search', 'seat', 'seats', 'second', 'secondary', 'security', 'see', 'see a', 'see how', 'see it', 'see that', 'see the', 'see this', 'see you', 'seeing', 'seek', 'seem', 'seem to', 'seems', 'seems like', 'seems to', 'seen', 'self', 'sell', 'selling', 'sense', 'sense of', 'sentiment', 'separate', 'series', 'serious', 'seriously', 'serve', 'service', 'services', 'set', 'set up', 'several', 'severe', 'severely', 'sex', 'sex with', 'sexual', 'share', 'sharing', 'she', 'she is', 'she was', 'shit', 'shitty', 'shoot', 'shooter', 'shooters', 'shooting', 'shootings', 'short', 'short term', 'shot', 'shot up', 'should', 'should also', 'should be', 'should have', 'should not', 'should we', 'shouldn', 'shouldn t', 'show', 'show up', 'shows', 'side', 'side of', 'sides', 'sign', 'signed', 'significant', 'significantly', 'silly', 'similar', 'similar to', 'simple', 'simple fact', 'simply', 'simply because', 'since', 'since the', 'since they', 'single', 'site', 'sites', 'situation', 'situations', 'skills', 'skin', 'skin color', 'slavery', 'sleep', 'slightly', 'slippery', 'slippery slope', 'slope', 'slow', 'small', 'smaller', 'smart', 'smarter', 'smoking', 'so', 'so as', 'so i', 'so if', 'so in', 'so is', 'so it', 'so many', 'so much', 'so on', 'so that', 'so the', 'so they', 'so to', 'so we', 'so what', 'so you', 'sober', 'social', 'socially', 'societal', 'societies', 'society', 'society and', 'society as', 'society is', 'society that', 'software', 'sold', 'soldier', 'soldiers', 'soldiers are', 'solely', 'solid', 'solution', 'solve', 'solved', 'some', 'some are', 'some kind', 'some of', 'some other', 'some people', 'some point', 'some sort', 'somebody', 'someone', 'someone else', 'someone has', 'someone is', 'someone s', 'someone to', 'someone who', 'someone with', 'something', 'something else', 'something i', 'something is', 'something like', 'something that', 'something to', 'something you', 'sometimes', 'somewhat', 'somewhere', 'soon', 'soon as', 'sorry', 'sort', 'sort of', 'sound', 'sounds', 'sounds like', 'source', 'south', 'space', 'speak', 'speaking', 'special', 'specialized', 'species', 'specific', 'specifically', 'spectrum', 'speech', 'speech and', 'speech is', 'speed', 'spend', 'spending', 'spent', 'spread', 'stable', 'stage', 'stand', 'standard', 'standards', 'standing', 'start', 'start to', 'started', 'starting', 'state', 'state of', 'stated', 'statement', 'statements', 'states', 'statistics', 'status', 'stay', 'step', 'stick', 'still', 'still a', 'still be', 'still have', 'stock', 'stop', 'stopped', 'storage', 'store', 'story', 'straight', 'street', 'strict', 'strong', 'stronger', 'strongly', 'stuck', 'students', 'studies', 'study', 'stuff', 'stupid', 'sub', 'subject', 'subject to', 'subjective', 'succeed', 'success', 'successful', 'such', 'such a', 'such an', 'such as', 'sucks', 'suddenly', 'sue', 'suffer', 'suffer from', 'suffering', 'sufficient', 'suggest', 'suggest that', 'suggesting', 'suggests', 'suicide', 'super', 'super drunk', 'superior', 'support', 'suppose', 'supposed', 'supposed to', 'sure', 'sure if', 'sure it', 'sure that', 'sure there', 'sure you', 'surgery', 'surgery is', 'surrounded', 'survive', 'suspect', 'switch', 'switzerland', 'syndrome', 'system', 'system is', 'systems', 't', 't a', 't actually', 't afford', 't agree', 't allowed', 't an', 't any', 't as', 't be', 't believe', 't blame', 't care', 't change', 't do', 't even', 't exactly', 't exist', 't find', 't for', 't force', 't get', 't give', 't go', 't going', 't have', 't help', 't it', 't just', 't know', 't like', 't make', 't matter', 't mean', 't necessarily', 't need', 't really', 't say', 't see', 't that', 't the', 't think', 't understand', 't want', 't you', 'take', 'take a', 'take the', 'taken', 'takeover', 'takes', 'taking', 'taking a', 'talk', 'talk to', 'talking', 'talking about', 'taught', 'tax', 'tax burden', 'taxes', 'teach', 'teachers', 'teaches', 'tech', 'technically', 'technology', 'tell', 'tell you', 'telling', 'tend', 'tend to', 'term', 'terms', 'terms of', 'terrible', 'terror', 'terrorism', 'terrorism because', 'terrorism is', 'terrorist', 'terrorist attack', 'terrorists', 'test', 'tests', 'texas', 'than', 'than a', 'than it', 'than most', 'than others', 'than that', 'than the', 'than they', 'than those', 'than what', 'than you', 'thanks', 'that', 'that a', 'that actually', 'that all', 'that and', 'that any', 'that are', 'that as', 'that because', 'that being', 'that both', 'that but', 'that can', 'that could', 'that do', 'that does', 'that doesn', 'that don', 'that every', 'that for', 'that has', 'that have', 'that having', 'that he', 'that i', 'that if', 'that in', 'that is', 'that isn', 'that it', 'that just', 'that life', 'that make', 'that makes', 'that many', 'that means', 'that might', 'that most', 'that much', 'that no', 'that of', 'that one', 'that other', 'that our', 'that people', 'that person', 'that point', 'that requires', 'that s', 'that said', 'that says', 'that she', 'that that', 'that the', 'that their', 'that there', 'that these', 'that they', 'that this', 'that those', 'that time', 'that to', 'that trying', 'that was', 'that way', 'that we', 'that were', 'that will', 'that with', 'that would', 'that you', 'that your', 'thats', 'the', 'the 7', 'the ability', 'the abortion', 'the actual', 'the airline', 'the airlines', 'the american', 'the amount', 'the answer', 'the argument', 'the army', 'the average', 'the bathroom', 'the best', 'the better', 'the big', 'the biggest', 'the book', 'the books', 'the case', 'the characters', 'the child', 'the choice', 'the company', 'the concept', 'the consequences', 'the cost', 'the countries', 'the country', 'the current', 'the customer', 'the day', 'the debate', 'the decision', 'the definition', 'the difference', 'the economy', 'the end', 'the entire', 'the environment', 'the eu', 'the exact', 'the fact', 'the fetus', 'the first', 'the freedom', 'the future', 'the government', 'the gun', 'the guns', 'the guy', 'the human', 'the idea', 'the individual', 'the information', 'the internet', 'the iphone', 'the issue', 'the key', 'the largest', 'the last', 'the law', 'the laws', 'the left', 'the less', 'the life', 'the limit', 'the line', 'the long', 'the main', 'the majority', 'the man', 'the matter', 'the media', 'the men', 'the middle', 'the military', 'the moment', 'the money', 'the more', 'the most', 'the mother', 'the need', 'the new', 'the next', 'the number', 'the one', 'the ones', 'the only', 'the open', 'the opposite', 'the other', 'the party', 'the past', 'the people', 'the person', 'the phone', 'the plane', 'the planet', 'the point', 'the police', 'the political', 'the poor', 'the population', 'the potential', 'the pound', 'the power', 'the premise', 'the price', 'the problem', 'the process', 'the public', 'the purpose', 'the quality', 'the question', 'the real', 'the reason', 'the reasons', 'the relationships', 'the rest', 'the results', 'the right', 'the rules', 'the sake', 'the same', 'the second', 'the series', 'the shooter', 'the side', 'the simple', 'the situation', 'the social', 'the state', 'the statistics', 'the status', 'the story', 'the street', 'the system', 'the term', 'the terms', 'the the', 'the thing', 'the things', 'the ticket', 'the time', 'the top', 'the two', 'the type', 'the u', 'the uk', 'the united', 'the us', 'the usa', 'the use', 'the value', 'the vast', 'the very', 'the victim', 'the war', 'the way', 'the white', 'the whole', 'the woman', 'the women', 'the word', 'the world', 'their', 'their actions', 'their country', 'their life', 'their lives', 'their minds', 'their own', 'their products', 'their right', 'their views', 'theirs', 'them', 'them a', 'them and', 'them as', 'them from', 'them in', 'them the', 'them to', 'themselves', 'then', 'then i', 'then it', 'then that', 'then the', 'then there', 'then they', 'then we', 'then you', 'theory', 'therapy', 'there', 'there a', 'there are', 'there is', 'there isn', 'there s', 'there to', 'there was', 'there were', 'there will', 'there would', 'therefore', 'these', 'these are', 'these people', 'these things', 'they', 'they are', 'they aren', 'they can', 'they could', 'they d', 'they did', 'they do', 'they don', 'they get', 'they give', 'they had', 'they have', 'they just', 'they know', 'they ll', 'they make', 'they may', 'they might', 'they need', 'they re', 'they should', 'they still', 'they think', 'they ve', 'they want', 'they were', 'they will', 'they would', 'thing', 'thing as', 'thing for', 'thing i', 'thing is', 'thing that', 'thing to', 'thing you', 'things', 'things are', 'things like', 'things that', 'things to', 'things you', 'think', 'think about', 'think critically', 'think i', 'think it', 'think of', 'think that', 'think the', 'think there', 'think they', 'think this', 'think we', 'think you', 'think your', 'thinking', 'thinking of', 'third', 'this', 'this and', 'this but', 'this can', 'this case', 'this doesn', 'this has', 'this i', 'this in', 'this is', 'this isn', 'this issue', 'this kind', 'this means', 'this point', 'this to', 'this was', 'this way', 'this will', 'this world', 'this would', 'those', 'those are', 'those countries', 'those people', 'those that', 'those things', 'those who', 'those with', 'though', 'though i', 'though you', 'thought', 'thought i', 'thought of', 'thoughts', 'thousands', 'thousands of', 'thread', 'threat', 'threatened', 'threats', 'three', 'threshold', 'through', 'through a', 'through the', 'throughout', 'throw', 'thus', 'ticket', 'tickets', 'ties', 'time', 'time and', 'time but', 'time to', 'time you', 'times', 'tiny', 'title', 'to', 'to a', 'to achieve', 'to actually', 'to add', 'to adopt', 'to agree', 'to all', 'to allow', 'to an', 'to any', 'to anyone', 'to argue', 'to ask', 'to avoid', 'to be', 'to become', 'to believe', 'to bring', 'to carry', 'to change', 'to choose', 'to college', 'to come', 'to commit', 'to consider', 'to continue', 'to control', 'to create', 'to deal', 'to defend', 'to define', 'to describe', 'to develop', 'to die', 'to do', 'to drink', 'to end', 'to enjoy', 'to ensure', 'to exist', 'to feel', 'to fight', 'to find', 'to fix', 'to force', 'to free', 'to germany', 'to get', 'to give', 'to go', 'to hate', 'to have', 'to help', 'to her', 'to him', 'to host', 'to hurt', 'to improve', 'to it', 'to just', 'to keep', 'to kill', 'to know', 'to learn', 'to let', 'to life', 'to live', 'to look', 'to lose', 'to maintain', 'to make', 'to many', 'to me', 'to mention', 'to more', 'to my', 'to no', 'to not', 'to other', 'to our', 'to overbook', 'to own', 'to pay', 'to pee', 'to people', 'to point', 'to prevent', 'to produce', 'to protect', 'to provide', 'to put', 'to raise', 'to reach', 'to read', 'to refuse', 'to run', 'to say', 'to see', 'to sex', 'to show', 'to society', 'to some', 'to someone', 'to speak', 'to spend', 'to spread', 'to start', 'to stay', 'to stop', 'to suggest', 'to support', 'to take', 'to talk', 'to teach', 'to tell', 'to that', 'to the', 'to their', 'to them', 'to think', 'to this', 'to those', 'to trade', 'to try', 'to understand', 'to us', 'to use', 'to war', 'to what', 'to work', 'to worry', 'to write', 'to you', 'to your', 'today', 'together', 'toilet', 'toilets', 'told', 'ton', 'ton of', 'tons', 'tons of', 'too', 'too many', 'too much', 'took', 'tool', 'tools', 'top', 'topic', 'total', 'totally', 'touch', 'tough', 'toward', 'towards', 'trade', 'trade agreements', 'trade deals', 'trade with', 'training', 'traits', 'trans', 'trans women', 'travel', 'treat', 'treated', 'tried', 'trouble', 'true', 'true that', 'truly', 'trump', 'trust', 'truth', 'try', 'try to', 'trying', 'trying to', 'turn', 'turned', 'turns', 'twice', 'two', 'type', 'type of', 'types', 'u', 'u s', 'ugly', 'uk', 'uk and', 'uk has', 'uk is', 'uk will', 'ultimately', 'un', 'unable', 'unable to', 'unattractive', 'unborn', 'uncomfortable', 'under', 'under the', 'understand', 'understand that', 'understand the', 'understand what', 'understand why', 'understanding', 'understanding of', 'understood', 'unfair', 'unfortunately', 'unique', 'unisex', 'united', 'united states', 'universal', 'universe', 'universities', 'university', 'unless', 'unless you', 'unlikely', 'until', 'until they', 'until you', 'up', 'up a', 'up and', 'up for', 'up in', 'up on', 'up the', 'up their', 'up to', 'up with', 'up your', 'upon', 'us', 'us and', 'us are', 'us from', 'us government', 'us has', 'us is', 'us than', 'us to', 'usa', 'use', 'use a', 'use it', 'use of', 'use the', 'use to', 'used', 'used as', 'used to', 'useful', 'useless', 'uses', 'using', 'using the', 'usually', 'v', 'valid', 'valuable', 'value', 'value of', 'values', 'variety', 'variety of', 'various', 'vast', 've', 've been', 've got', 've seen', 'version', 'very', 'very different', 'very difficult', 'very few', 'very good', 'very little', 'very much', 'very well', 'via', 'vice', 'victim', 'victims', 'video', 'view', 'view but', 'view is', 'viewpoint', 'viewpoints', 'views', 'views are', 'violating', 'violence', 'violence against', 'violence and', 'violence in', 'violent', 'voluntarily', 'volunteers', 'vote', 'voted', 'voters', 'voting', 'vs', 'vulnerable', 'wage', 'wait', 'wake', 'walk', 'walking', 'want', 'want a', 'want the', 'want to', 'wanted', 'wanted to', 'wanting', 'wanting to', 'wants', 'wants to', 'war', 'war and', 'war is', 'wars', 'wars are', 'was', 'was a', 'was going', 'was in', 'was just', 'was not', 'was the', 'wasn', 'wasn t', 'waste', 'wasted', 'watch', 'watch v', 'watching', 'water', 'way', 'way and', 'way i', 'way more', 'way of', 'way that', 'way to', 'way too', 'way you', 'ways', 'ways that', 'we', 'we all', 'we are', 'we as', 'we can', 'we could', 'we do', 'we don', 'we get', 'we got', 'we have', 'we know', 'we ll', 'we need', 'we re', 'we should', 'we still', 'we ve', 'we want', 'we were', 'we will', 'we would', 'weak', 'weaker', 'wealth', 'wealthy', 'weapons', 'wearing', 'web', 'website', 'websites', 'weed', 'week', 'weeks', 'weight', 'weird', 'welcoming', 'welfare', 'well', 'well and', 'well as', 'well in', 'went', 'went to', 'were', 'were a', 'were born', 'were in', 'weren', 'weren t', 'western', 'what', 'what a', 'what about', 'what happens', 'what i', 'what if', 'what is', 'what it', 'what makes', 'what people', 'what s', 'what the', 'what they', 'what to', 'what we', 'what would', 'what you', 'whatever', 'whatever they', 'whatever you', 'when', 'when a', 'when i', 'when it', 'when that', 'when the', 'when they', 'when we', 'when you', 'when your', 'whenever', 'where', 'where i', 'where it', 'where the', 'where there', 'where they', 'where we', 'where you', 'whereas', 'whether', 'whether or', 'whether you', 'which', 'which a', 'which are', 'which has', 'which i', 'which is', 'which they', 'which to', 'while', 'while drunk', 'while i', 'while it', 'while the', 'while you', 'white', 'white people', 'whites', 'who', 'who are', 'who can', 'who do', 'who don', 'who has', 'who have', 'who is', 'who s', 'who want', 'who were', 'who will', 'who would', 'who you', 'whole', 'whom', 'whose', 'why', 'why do', 'why does', 'why is', 'why it', 'why not', 'why people', 'why the', 'why they', 'why would', 'why you', 'wife', 'wiki', 'wikipedia', 'wikipedia org', 'will', 'will always', 'will be', 'will eventually', 'will ever', 'will get', 'will have', 'will likely', 'will make', 'will never', 'will not', 'will only', 'will probably', 'will see', 'will still', 'willing', 'willing to', 'willingly', 'win', 'windows', 'wing', 'wish', 'with', 'with a', 'with all', 'with an', 'with any', 'with being', 'with down', 'with guns', 'with her', 'with is', 'with it', 'with me', 'with more', 'with no', 'with other', 'with our', 'with people', 'with someone', 'with that', 'with the', 'with their', 'with them', 'with these', 'with this', 'with what', 'with you', 'with your', 'within', 'within the', 'without', 'without a', 'without soldiers', 'without the', 'without them', 'woman', 'woman i', 'women', 'women s', 'women to', 'won', 'won t', 'wonder', 'word', 'words', 'work', 'work and', 'work out', 'work with', 'worked', 'workers', 'working', 'working on', 'works', 'world', 'world and', 'world is', 'world that', 'world where', 'worried', 'worried about', 'worry', 'worry about', 'worse', 'worst', 'worth', 'worth the', 'would', 'would agree', 'would argue', 'would be', 'would become', 'would have', 'would like', 'would mean', 'would not', 'would probably', 'would say', 'would take', 'would you', 'wouldn', 'wouldn t', 'write', 'writing', 'written', 'wrong', 'wrong with', 'www', 'www youtube', 'x', 'y', 'yeah', 'year', 'year old', 'years', 'years ago', 'years and', 'years of', 'years old', 'yellow', 'yes', 'yes it', 'yet', 'you', 'you a', 'you also', 'you an', 'you and', 'you are', 'you aren', 'you as', 'you be', 'you because', 'you believe', 'you but', 'you buy', 'you can', 'you cannot', 'you choose', 'you come', 'you consider', 'you could', 'you d', 'you describe', 'you did', 'you didn', 'you do', 'you don', 'you even', 'you expect', 'you feel', 'you find', 'you for', 'you from', 'you get', 'you go', 'you guys', 'you had', 'you have', 'you in', 'you it', 'you just', 'you know', 'you listed', 'you live', 'you ll', 'you look', 'you make', 'you may', 'you mean', 'you mentioned', 'you might', 'you must', 'you need', 'you of', 'you on', 'you or', 'you probably', 'you re', 'you really', 'you said', 'you say', 'you see', 'you seem', 'you should', 'you still', 'you take', 'you that', 'you think', 'you to', 'you ve', 'you want', 'you were', 'you what', 'you will', 'you won', 'you would', 'young', 'younger', 'your', 'your argument', 'your body', 'your country', 'your genes', 'your life', 'your liver', 'your mind', 'your opinion', 'your own', 'your point', 'your post', 'your problems', 'your situation', 'your view', 'yours', 'yourself', 'yourself and', 'yourself in', 'yourself that', 'yourself to', 'youtu', 'youtu be', 'youtube', 'youtube com', 'youâ', 'youâ re', 'zero', 'zygote', 'zygote or', 'â', 'ë', 'ì']\n",
            "['adj', 'adp', 'adv', 'aux', 'cconj', 'det', 'intj', 'noun', 'num', 'part', 'pron', 'propn', 'punct', 'sconj', 'space', 'sym', 'verb', 'x']\n"
          ]
        },
        {
          "output_type": "stream",
          "name": "stderr",
          "text": [
            "/usr/local/lib/python3.7/dist-packages/sklearn/utils/deprecation.py:87: FutureWarning: Function get_feature_names is deprecated; get_feature_names is deprecated in 1.0 and will be removed in 1.2. Please use get_feature_names_out instead.\n",
            "  warnings.warn(msg, category=FutureWarning)\n"
          ]
        },
        {
          "output_type": "execute_result",
          "data": {
            "text/plain": [
              "Text(0.5, 0, 'Feature Name')"
            ]
          },
          "metadata": {},
          "execution_count": 62
        },
        {
          "output_type": "display_data",
          "data": {
            "text/plain": [
              "<Figure size 864x504 with 1 Axes>"
            ],
            "image/png": "[encoded data removed]"
          },
          "metadata": {
            "needs_background": "light"
          }
        }
      ],
      "source": [
        "# VISUALIZE MOST IMPORTANT FEATURES FOR NONARG\n",
        "# Get the coefficients of each feature\n",
        "coefs = classifier.named_steps[\"clf\"].coef_\n",
        "\n",
        "nonarg_coefs = coefs[0].toarray()[0]\n",
        "print(nonarg_coefs)\n",
        "\n",
        "# Get feature names\n",
        "unigram_bigram = (classifier\n",
        "              .named_steps[\"features\"]\n",
        "              .transformer_list[0][1]\n",
        "              .named_steps[\"bigram\"]\n",
        "              .get_feature_names())\n",
        "\n",
        "POS_tag = (classifier\n",
        "              .named_steps[\"features\"]\n",
        "              .transformer_list[1][1]\n",
        "              .named_steps[\"POS-tag\"]\n",
        "              .get_feature_names())\n",
        "\n",
        "\n",
        "POV = (classifier\n",
        "              .named_steps[\"features\"]\n",
        "              .transformer_list[2][1]\n",
        "              .named_steps[\"POV-tag\"]\n",
        "              .get_feature_names())\n",
        "\n",
        "tense = (classifier\n",
        "              .named_steps[\"features\"]\n",
        "              .transformer_list[3][1]\n",
        "              .named_steps[\"tense\"]\n",
        "              .get_feature_names())\n",
        "\n",
        "# word_count = (classifier\n",
        "#               .named_steps[\"features\"]\n",
        "#               .transformer_list[4][1]\n",
        "#               .named_steps[\"wordCount\"]\n",
        "#               .get_feature_names())\n",
        "\n",
        "tfidf = (classifier\n",
        "           .named_steps[\"features\"]\n",
        "           .transformer_list[5][1]\n",
        "           .named_steps[\"tfidf\"]\n",
        "           .get_feature_names())\n",
        "\n",
        "feature_names = unigram_bigram + POS_tag + POV + tense + tfidf\n",
        "\n",
        "# Zip coefficients and names together and make a DataFrame\n",
        "zipped = zip(feature_names, nonarg_coefs)\n",
        "df = pd.DataFrame(zipped, columns=[\"feature\", \"value\"]) # Sort the features by the absolute value of their coefficient\n",
        "df[\"abs_value\"] = df[\"value\"].apply(lambda x: abs(x))\n",
        "df.head()\n",
        "df[\"colors\"] = df[\"value\"].apply(lambda x: \"green\" if x > 0 else \"red\")\n",
        "df = df.sort_values(\"abs_value\", ascending=False)\n",
        "\n",
        "\n",
        "# Make the figure\n",
        "fig, ax = plt.subplots(1, 1, figsize=(12, 7))\n",
        "sns.barplot(x=\"feature\",\n",
        "            y=\"value\",\n",
        "            data=df.head(20),\n",
        "           palette=df.head(20)[\"colors\"])\n",
        "ax.set_xticklabels(ax.get_xticklabels(), rotation=90, fontsize=20)\n",
        "ax.set_title(\"Top 20 Features\", fontsize=25)\n",
        "ax.set_ylabel(\"Coef\", fontsize=22)\n",
        "ax.set_xlabel(\"Feature Name\", fontsize=22)"
      ]
    },
    {
      "cell_type": "code",
      "source": [
        "# VISUALIZE MOST IMPORTANT FEATURES FOR UNVERIF\n",
        "\n",
        "unverif_coefs = coefs[1].toarray()[0]\n",
        "print(unverif_coefs)\n",
        "\n",
        "# Get feature names\n",
        "unigram_bigram = (classifier\n",
        "              .named_steps[\"features\"]\n",
        "              .transformer_list[0][1]\n",
        "              .named_steps[\"bigram\"]\n",
        "              .get_feature_names())\n",
        "\n",
        "POS_tag = (classifier\n",
        "              .named_steps[\"features\"]\n",
        "              .transformer_list[1][1]\n",
        "              .named_steps[\"POS-tag\"]\n",
        "              .get_feature_names())\n",
        "\n",
        "\n",
        "POV = (classifier\n",
        "              .named_steps[\"features\"]\n",
        "              .transformer_list[2][1]\n",
        "              .named_steps[\"POV-tag\"]\n",
        "              .get_feature_names())\n",
        "\n",
        "tense = (classifier\n",
        "              .named_steps[\"features\"]\n",
        "              .transformer_list[3][1]\n",
        "              .named_steps[\"tense\"]\n",
        "              .get_feature_names())\n",
        "\n",
        "# word_count = (classifier\n",
        "#               .named_steps[\"features\"]\n",
        "#               .transformer_list[4][1]\n",
        "#               .named_steps[\"wordCount\"]\n",
        "#               .get_feature_names())\n",
        "\n",
        "tfidf = (classifier\n",
        "           .named_steps[\"features\"]\n",
        "           .transformer_list[5][1]\n",
        "           .named_steps[\"tfidf\"]\n",
        "           .get_feature_names())\n",
        "\n",
        "feature_names = unigram_bigram + POS_tag + POV + tense + tfidf\n",
        "\n",
        "# Zip coefficients and names together and make a DataFrame\n",
        "zipped = zip(feature_names, unverif_coefs)\n",
        "df = pd.DataFrame(zipped, columns=[\"feature\", \"value\"]) # Sort the features by the absolute value of their coefficient\n",
        "df[\"abs_value\"] = df[\"value\"].apply(lambda x: abs(x))\n",
        "df.head()\n",
        "df[\"colors\"] = df[\"value\"].apply(lambda x: \"green\" if x > 0 else \"red\")\n",
        "df = df.sort_values(\"abs_value\", ascending=False)\n",
        "\n",
        "\n",
        "# Make the figure\n",
        "fig, ax = plt.subplots(1, 1, figsize=(12, 7))\n",
        "sns.barplot(x=\"feature\",\n",
        "            y=\"value\",\n",
        "            data=df.head(20),\n",
        "           palette=df.head(20)[\"colors\"])\n",
        "ax.set_xticklabels(ax.get_xticklabels(), rotation=90, fontsize=20)\n",
        "ax.set_title(\"Top 20 Features\", fontsize=25)\n",
        "ax.set_ylabel(\"Coef\", fontsize=22)\n",
        "ax.set_xlabel(\"Feature Name\", fontsize=22)"
      ],
      "metadata": {
        "colab": {
          "base_uri": "https://localhost:8080/",
          "height": 707
        },
        "id": "pVMCdkLDslxl",
        "outputId": "06e47a39-0eae-4da6-8d34-e51da9ad09c3"
      },
      "execution_count": null,
      "outputs": [
        {
          "output_type": "stream",
          "name": "stdout",
          "text": [
            "[ 0.46966844 -0.01292404  0.         ...  0.00723797  0.00206799\n",
            "  0.00206799]\n"
          ]
        },
        {
          "output_type": "stream",
          "name": "stderr",
          "text": [
            "/usr/local/lib/python3.7/dist-packages/sklearn/utils/deprecation.py:87: FutureWarning: Function get_feature_names is deprecated; get_feature_names is deprecated in 1.0 and will be removed in 1.2. Please use get_feature_names_out instead.\n",
            "  warnings.warn(msg, category=FutureWarning)\n"
          ]
        },
        {
          "output_type": "execute_result",
          "data": {
            "text/plain": [
              "Text(0.5, 0, 'Feature Name')"
            ]
          },
          "metadata": {},
          "execution_count": 63
        },
        {
          "output_type": "display_data",
          "data": {
            "text/plain": [
              "<Figure size 864x504 with 1 Axes>"
            ],
            "image/png": "[encoded data removed]"
          },
          "metadata": {
            "needs_background": "light"
          }
        }
      ]
    },
    {
      "cell_type": "code",
      "source": [
        "# VISUALIZE MOST IMPORTANT FEATURES FOR Verif\n",
        "\n",
        "\n",
        "verif_coefs = coefs[2].toarray()[0]\n",
        "print(verif_coefs)\n",
        "\n",
        "# Get feature names\n",
        "unigram_bigram = (classifier\n",
        "              .named_steps[\"features\"]\n",
        "              .transformer_list[0][1]\n",
        "              .named_steps[\"bigram\"]\n",
        "              .get_feature_names())\n",
        "\n",
        "POS_tag = (classifier\n",
        "              .named_steps[\"features\"]\n",
        "              .transformer_list[1][1]\n",
        "              .named_steps[\"POS-tag\"]\n",
        "              .get_feature_names())\n",
        "\n",
        "\n",
        "POV = (classifier\n",
        "              .named_steps[\"features\"]\n",
        "              .transformer_list[2][1]\n",
        "              .named_steps[\"POV-tag\"]\n",
        "              .get_feature_names())\n",
        "\n",
        "tense = (classifier\n",
        "              .named_steps[\"features\"]\n",
        "              .transformer_list[3][1]\n",
        "              .named_steps[\"tense\"]\n",
        "              .get_feature_names())\n",
        "\n",
        "# word_count = (classifier\n",
        "#               .named_steps[\"features\"]\n",
        "#               .transformer_list[4][1]\n",
        "#               .named_steps[\"wordCount\"]\n",
        "#               .get_feature_names())\n",
        "\n",
        "tfidf = (classifier\n",
        "           .named_steps[\"features\"]\n",
        "           .transformer_list[5][1]\n",
        "           .named_steps[\"tfidf\"]\n",
        "           .get_feature_names())\n",
        "\n",
        "feature_names = unigram_bigram + POS_tag + POV + tense + tfidf\n",
        "\n",
        "# Zip coefficients and names together and make a DataFrame\n",
        "zipped = zip(feature_names, verif_coefs)\n",
        "df = pd.DataFrame(zipped, columns=[\"feature\", \"value\"]) # Sort the features by the absolute value of their coefficient\n",
        "df[\"abs_value\"] = df[\"value\"].apply(lambda x: abs(x))\n",
        "df.head()\n",
        "df[\"colors\"] = df[\"value\"].apply(lambda x: \"green\" if x > 0 else \"red\")\n",
        "df = df.sort_values(\"abs_value\", ascending=False)\n",
        "\n",
        "\n",
        "# Make the figure\n",
        "fig, ax = plt.subplots(1, 1, figsize=(12, 7))\n",
        "sns.barplot(x=\"feature\",\n",
        "            y=\"value\",\n",
        "            data=df.head(20),\n",
        "           palette=df.head(20)[\"colors\"])\n",
        "ax.set_xticklabels(ax.get_xticklabels(), rotation=90, fontsize=20)\n",
        "ax.set_title(\"Top 20 Features\", fontsize=25)\n",
        "ax.set_ylabel(\"Coef\", fontsize=22)\n",
        "ax.set_xlabel(\"Feature Name\", fontsize=22)"
      ],
      "metadata": {
        "colab": {
          "base_uri": "https://localhost:8080/",
          "height": 688
        },
        "id": "6mG5kupgsxb3",
        "outputId": "168eace4-c58d-4ba4-ef87-348e0c2b8264"
      },
      "execution_count": null,
      "outputs": [
        {
          "output_type": "stream",
          "name": "stdout",
          "text": [
            "[-0.10473144  0.60121419  0.13645228 ...  0.          0.\n",
            "  0.        ]\n"
          ]
        },
        {
          "output_type": "stream",
          "name": "stderr",
          "text": [
            "/usr/local/lib/python3.7/dist-packages/sklearn/utils/deprecation.py:87: FutureWarning: Function get_feature_names is deprecated; get_feature_names is deprecated in 1.0 and will be removed in 1.2. Please use get_feature_names_out instead.\n",
            "  warnings.warn(msg, category=FutureWarning)\n"
          ]
        },
        {
          "output_type": "execute_result",
          "data": {
            "text/plain": [
              "Text(0.5, 0, 'Feature Name')"
            ]
          },
          "metadata": {},
          "execution_count": 64
        },
        {
          "output_type": "display_data",
          "data": {
            "text/plain": [
              "<Figure size 864x504 with 1 Axes>"
            ],
            "image/png": "[encoded data removed]"
          },
          "metadata": {
            "needs_background": "light"
          }
        }
      ]
    }
  ],
  "metadata": {
    "colab": {
      "collapsed_sections": [],
      "name": "Thesis SVM.ipynb",
      "provenance": []
    },
    "kernelspec": {
      "display_name": "Python 3",
      "name": "python3"
    },
    "language_info": {
      "name": "python"
    }
  },
  "nbformat": 4,
  "nbformat_minor": 0
}